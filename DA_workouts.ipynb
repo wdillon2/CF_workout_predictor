{
 "cells": [
  {
   "cell_type": "code",
   "execution_count": 320,
   "metadata": {
    "collapsed": true
   },
   "outputs": [],
   "source": [
    "import pandas as pd\n",
    "import seaborn as sns\n",
    "import matplotlib.pyplot as plt\n",
    "import re\n",
    "%matplotlib inline\n",
    "pd.set_option('display.max_colwidth',999)"
   ]
  },
  {
   "cell_type": "markdown",
   "metadata": {},
   "source": [
    "### Variable List\n",
    "df --> DataFrame (1778,10) with original data\n",
    "\n",
    "df1 --> DataFrame (1612,7) with unused_cols dropped, and null values from Formatted Result dropped\n",
    "\n",
    "unused_cols -->  DataFrame (1778,3) columns Pukie, Notes and Description\n",
    "\n",
    "no_work--> DataFrame (63,7) no work was performed - Warmsups and Cooldowns, not needed for performance calcs\n",
    "\n",
    "lifts --> DataFrame (45,7) lifts only, work completed but no time.  These will be used to calculate volume abilities. \n",
    "\n"
   ]
  },
  {
   "cell_type": "code",
   "execution_count": 321,
   "metadata": {
    "collapsed": false
   },
   "outputs": [
    {
     "data": {
      "text/html": [
       "<div>\n",
       "<table border=\"1\" class=\"dataframe\">\n",
       "  <thead>\n",
       "    <tr style=\"text-align: right;\">\n",
       "      <th></th>\n",
       "      <th>Date</th>\n",
       "      <th>Workout</th>\n",
       "      <th>Result</th>\n",
       "      <th>Prescribed</th>\n",
       "      <th>Pukie</th>\n",
       "      <th>Work performed</th>\n",
       "      <th>Work time</th>\n",
       "      <th>Formatted Result</th>\n",
       "      <th>Notes</th>\n",
       "      <th>Description</th>\n",
       "    </tr>\n",
       "  </thead>\n",
       "  <tbody>\n",
       "    <tr>\n",
       "      <th>0</th>\n",
       "      <td>2017-04-04</td>\n",
       "      <td>5 RFT: Power Cleans, Walking Lunges, and Thrusters</td>\n",
       "      <td>399000.000000</td>\n",
       "      <td>True</td>\n",
       "      <td>False</td>\n",
       "      <td>42039</td>\n",
       "      <td>399000.0</td>\n",
       "      <td>6 mins 39 secs</td>\n",
       "      <td>Went out too hot</td>\n",
       "      <td>5 rounds of:\\n12 Power Cleans, 65 lbs\\n6 Walking Lunges, 65 lbs\\n3 Thrusters, 65 lbs</td>\n",
       "    </tr>\n",
       "    <tr>\n",
       "      <th>1</th>\n",
       "      <td>2017-04-02</td>\n",
       "      <td>Cindy</td>\n",
       "      <td>11.133000</td>\n",
       "      <td>True</td>\n",
       "      <td>False</td>\n",
       "      <td>88204</td>\n",
       "      <td>1200000.0</td>\n",
       "      <td>11 rounds + 2 Pull-ups | 332 reps</td>\n",
       "      <td>NaN</td>\n",
       "      <td>20:00 AMRAP:\\n5 Pull-ups\\n10 Push-ups\\n15 Air Squats</td>\n",
       "    </tr>\n",
       "    <tr>\n",
       "      <th>2</th>\n",
       "      <td>2017-03-28</td>\n",
       "      <td>21-15-9: Push Press and Box Jumps</td>\n",
       "      <td>419000.000000</td>\n",
       "      <td>True</td>\n",
       "      <td>False</td>\n",
       "      <td>21197</td>\n",
       "      <td>419000.0</td>\n",
       "      <td>6 mins 59 secs</td>\n",
       "      <td>Step ups, got a set of 13 pp on the first round</td>\n",
       "      <td>21-15-9 reps of:\\nPush Press, 95 lbs\\nBox Jump, 20 in</td>\n",
       "    </tr>\n",
       "    <tr>\n",
       "      <th>3</th>\n",
       "      <td>2017-03-28</td>\n",
       "      <td>Deadlift 4x3</td>\n",
       "      <td>1115.837230</td>\n",
       "      <td>True</td>\n",
       "      <td>False</td>\n",
       "      <td>6207</td>\n",
       "      <td>NaN</td>\n",
       "      <td>2460 lbs | 205 lbs, 205 lbs, 205 lbs, and 205 lbs</td>\n",
       "      <td>NaN</td>\n",
       "      <td>Sets\\n3 Deadlifts | 205 lbs\\n3 Deadlifts | 205 lbs\\n3 Deadlifts | 205 lbs\\n3 Deadlifts | 205 lbs</td>\n",
       "    </tr>\n",
       "    <tr>\n",
       "      <th>4</th>\n",
       "      <td>2017-03-26</td>\n",
       "      <td>Split Jerk 1 Rep</td>\n",
       "      <td>77.110703</td>\n",
       "      <td>True</td>\n",
       "      <td>False</td>\n",
       "      <td>300</td>\n",
       "      <td>NaN</td>\n",
       "      <td>170 lbs | 170 lbs</td>\n",
       "      <td>Went for 175 but missed</td>\n",
       "      <td>Sets\\n1 Split Jerk | 170 lbs</td>\n",
       "    </tr>\n",
       "    <tr>\n",
       "      <th>5</th>\n",
       "      <td>2017-03-26</td>\n",
       "      <td>Row : 3x 1 km, rest 3 mins</td>\n",
       "      <td>771500.000000</td>\n",
       "      <td>True</td>\n",
       "      <td>False</td>\n",
       "      <td>93741</td>\n",
       "      <td>771500.0</td>\n",
       "      <td>12 mins 51.5 secs</td>\n",
       "      <td>NaN</td>\n",
       "      <td>Intervals : rest 3 mins\\nRow, 1 km | 4:11.9\\nRow, 1 km | 4:19.3\\nRow, 1 km | 4:20.3</td>\n",
       "    </tr>\n",
       "    <tr>\n",
       "      <th>6</th>\n",
       "      <td>2017-03-24</td>\n",
       "      <td>CrossFit Games Open 17.5</td>\n",
       "      <td>982000.000000</td>\n",
       "      <td>True</td>\n",
       "      <td>False</td>\n",
       "      <td>66793</td>\n",
       "      <td>982000.0</td>\n",
       "      <td>16 mins 22 secs</td>\n",
       "      <td>All thrusters unbroken,  5 of the rounds of dubs unbroken</td>\n",
       "      <td>10 rounds of:\\n9 Thrusters, 65 lbs\\n35 Double Unders</td>\n",
       "    </tr>\n",
       "    <tr>\n",
       "      <th>7</th>\n",
       "      <td>2017-03-22</td>\n",
       "      <td>Every 1:30 for 10:30: Front Squat</td>\n",
       "      <td>857.289579</td>\n",
       "      <td>True</td>\n",
       "      <td>False</td>\n",
       "      <td>5848</td>\n",
       "      <td>630000.0</td>\n",
       "      <td>1890 lbs</td>\n",
       "      <td>NaN</td>\n",
       "      <td>Every 1:30 for 10:30:\\n2 Front Squats | 135 lbs\\n2 Front Squats | 135 lbs\\n2 Front Squats | 135 lbs\\n2 Front Squats | 135 lbs\\n2 Front Squats | 135 lbs\\n2 Front Squats | 135 lbs\\n2 Front Squats | 135 lbs</td>\n",
       "    </tr>\n",
       "    <tr>\n",
       "      <th>8</th>\n",
       "      <td>2017-03-22</td>\n",
       "      <td>AMRAP 5 mins: Squat Cleans and AbMat Sit-ups</td>\n",
       "      <td>3.810000</td>\n",
       "      <td>True</td>\n",
       "      <td>False</td>\n",
       "      <td>29387</td>\n",
       "      <td>300000.0</td>\n",
       "      <td>3 rounds + 7 Squat Cleans + 13 AbMat Sit-ups | 104 reps</td>\n",
       "      <td>NaN</td>\n",
       "      <td>5:00 AMRAP:\\n7 Squat Cleans, 75 lbs\\n21 AbMat Sit-ups</td>\n",
       "    </tr>\n",
       "    <tr>\n",
       "      <th>9</th>\n",
       "      <td>2017-03-22</td>\n",
       "      <td>AMRAP 5 mins: Hanging Knee Raises and Push Press</td>\n",
       "      <td>3.000000</td>\n",
       "      <td>True</td>\n",
       "      <td>False</td>\n",
       "      <td>2780</td>\n",
       "      <td>300000.0</td>\n",
       "      <td>3 rounds | 84 reps</td>\n",
       "      <td>NaN</td>\n",
       "      <td>5:00 AMRAP:\\n21 Hanging Knee Raises\\n7 Push Press, 75 lbs</td>\n",
       "    </tr>\n",
       "    <tr>\n",
       "      <th>10</th>\n",
       "      <td>2017-03-22</td>\n",
       "      <td>AMRAP 5 mins: Wall Balls and Pull-ups</td>\n",
       "      <td>1.600000</td>\n",
       "      <td>True</td>\n",
       "      <td>False</td>\n",
       "      <td>10193</td>\n",
       "      <td>300000.0</td>\n",
       "      <td>1 round + 10 Wall Balls + 3 Pull-ups | 38 reps</td>\n",
       "      <td>Singles on pull ups</td>\n",
       "      <td>5:00 AMRAP:\\n10 Wall Balls, 14 lbs\\n15 Pull-ups</td>\n",
       "    </tr>\n",
       "    <tr>\n",
       "      <th>11</th>\n",
       "      <td>2017-03-21</td>\n",
       "      <td>AMRAP 10 mins: Lateral Burpee (Over Barbell)s and Power Snatches</td>\n",
       "      <td>2.833000</td>\n",
       "      <td>True</td>\n",
       "      <td>False</td>\n",
       "      <td>44381</td>\n",
       "      <td>600000.0</td>\n",
       "      <td>2 rounds + 15 Lateral Burpee (Over Barbell)s + 10 Power Snatches | 85 reps</td>\n",
       "      <td>NaN</td>\n",
       "      <td>10:00 AMRAP:\\n15 Lateral Burpee (Over Barbell)s\\n15 Power Snatches, 75 lbs</td>\n",
       "    </tr>\n",
       "    <tr>\n",
       "      <th>12</th>\n",
       "      <td>2017-03-21</td>\n",
       "      <td>Back Squat : 1 Rep Max</td>\n",
       "      <td>113.398093</td>\n",
       "      <td>True</td>\n",
       "      <td>False</td>\n",
       "      <td>604</td>\n",
       "      <td>NaN</td>\n",
       "      <td>250 lbs | 250 lbs</td>\n",
       "      <td>10min to find after workout, felt solid</td>\n",
       "      <td>Sets\\n1 Back Squat | 250 lbs</td>\n",
       "    </tr>\n",
       "    <tr>\n",
       "      <th>13</th>\n",
       "      <td>2017-03-20</td>\n",
       "      <td>5 RFT: 200 m, Dumbbell Walking Lunges, and Dumbbell Thrusters</td>\n",
       "      <td>930000.000000</td>\n",
       "      <td>True</td>\n",
       "      <td>False</td>\n",
       "      <td>68913</td>\n",
       "      <td>930000.0</td>\n",
       "      <td>15 mins 30 secs</td>\n",
       "      <td>Didn't get lapped</td>\n",
       "      <td>5 rounds of:\\nRun, 200 m\\n12 Dumbbell Walking Lunges, 25 lbs\\n12 Dumbbell Thrusters, 25 lbs</td>\n",
       "    </tr>\n",
       "    <tr>\n",
       "      <th>14</th>\n",
       "      <td>2017-03-20</td>\n",
       "      <td>Every 1 min for 10 mins: Hang Snatch High Pulls and Hang Squat Snatches</td>\n",
       "      <td>10.000000</td>\n",
       "      <td>True</td>\n",
       "      <td>False</td>\n",
       "      <td>4387</td>\n",
       "      <td>600000.0</td>\n",
       "      <td>10.0 rounds</td>\n",
       "      <td>NaN</td>\n",
       "      <td>Every 1 min for 10 mins:\\n1 Hang Snatch High Pull, 85 lbs\\n1 Hang Squat Snatch, 85 lbs</td>\n",
       "    </tr>\n",
       "    <tr>\n",
       "      <th>15</th>\n",
       "      <td>2017-03-20</td>\n",
       "      <td>Lifting: Weighted Strict Pull-ups and Weighted Strict Bar Dips</td>\n",
       "      <td>0.000000</td>\n",
       "      <td>False</td>\n",
       "      <td>False</td>\n",
       "      <td>0</td>\n",
       "      <td>NaN</td>\n",
       "      <td>0 lbs | lbs, lbs, lbs, lbs, lbs, lbs, lbs, lbs, lbs, and lbs</td>\n",
       "      <td>Purple band (medium)</td>\n",
       "      <td>Sets\\n3 Weighted Strict Pull-ups |  lbs\\n3 Weighted Strict Pull-ups |  lbs\\n3 Weighted Strict Pull-ups |  lbs\\n3 Weighted Strict Pull-ups |  lbs\\n3 Weighted Strict Pull-ups |  lbs\\n3 Weighted Strict Bar Dips |  lbs\\n3 Weighted Strict Bar Dips |  lbs\\n3 Weighted Strict Bar Dips |  lbs\\n3 Weighted Strict Bar Dips |  lbs\\n3 Weighted Strict Bar Dips |  lbs</td>\n",
       "    </tr>\n",
       "    <tr>\n",
       "      <th>16</th>\n",
       "      <td>2017-03-17</td>\n",
       "      <td>CrossFit Games Open 16.4 / 17.4</td>\n",
       "      <td>165.000000</td>\n",
       "      <td>True</td>\n",
       "      <td>False</td>\n",
       "      <td>65071</td>\n",
       "      <td>780000.0</td>\n",
       "      <td>165 reps</td>\n",
       "      <td>Tie break 12:05, I attempt at hspu, happy I finished the row</td>\n",
       "      <td>AMReps in 13 mins:\\n55 Deadlifts, 155 lbs | 55 reps\\n55 Wall Balls, 14 lbs, 9 ft | 55 reps\\n55 Row Calories | 55 reps\\n55 Handstand Push-ups</td>\n",
       "    </tr>\n",
       "    <tr>\n",
       "      <th>17</th>\n",
       "      <td>2017-03-15</td>\n",
       "      <td>Chipper: Pistols (Alternating Legs)s, Wall Balls, Burpees, and Hang Power Snatches</td>\n",
       "      <td>750000.000000</td>\n",
       "      <td>True</td>\n",
       "      <td>False</td>\n",
       "      <td>40195</td>\n",
       "      <td>750000.0</td>\n",
       "      <td>12 mins 30 secs</td>\n",
       "      <td>NaN</td>\n",
       "      <td>30 Pistols (Alternating Legs)s\\n30 Wall Balls, 14 lbs\\n30 Burpees, 4 in\\n30 Hang Power Snatches, 65 lbs</td>\n",
       "    </tr>\n",
       "    <tr>\n",
       "      <th>18</th>\n",
       "      <td>2017-03-15</td>\n",
       "      <td>Thruster 5-5-5-3-3-3</td>\n",
       "      <td>1075.013917</td>\n",
       "      <td>True</td>\n",
       "      <td>False</td>\n",
       "      <td>12804</td>\n",
       "      <td>NaN</td>\n",
       "      <td>2370 lbs | 95 lbs, 95 lbs, 95 lbs, 105 lbs, 105 lbs, and 105 lbs</td>\n",
       "      <td>NaN</td>\n",
       "      <td>Sets\\n5 Thrusters | 95 lbs\\n5 Thrusters | 95 lbs\\n5 Thrusters | 95 lbs\\n3 Thrusters | 105 lbs\\n3 Thrusters | 105 lbs\\n3 Thrusters | 105 lbs</td>\n",
       "    </tr>\n",
       "    <tr>\n",
       "      <th>19</th>\n",
       "      <td>2017-03-15</td>\n",
       "      <td>\"Tabata\" - AbMat Sit-ups : 8 x 20 secs / 10 secs</td>\n",
       "      <td>92.000000</td>\n",
       "      <td>True</td>\n",
       "      <td>False</td>\n",
       "      <td>15150</td>\n",
       "      <td>240000.0</td>\n",
       "      <td>92 reps | 92</td>\n",
       "      <td>NaN</td>\n",
       "      <td>Tabata AbMat Sit-up | 12,11,12,12,11,11,12,11</td>\n",
       "    </tr>\n",
       "  </tbody>\n",
       "</table>\n",
       "</div>"
      ],
      "text/plain": [
       "          Date  \\\n",
       "0   2017-04-04   \n",
       "1   2017-04-02   \n",
       "2   2017-03-28   \n",
       "3   2017-03-28   \n",
       "4   2017-03-26   \n",
       "5   2017-03-26   \n",
       "6   2017-03-24   \n",
       "7   2017-03-22   \n",
       "8   2017-03-22   \n",
       "9   2017-03-22   \n",
       "10  2017-03-22   \n",
       "11  2017-03-21   \n",
       "12  2017-03-21   \n",
       "13  2017-03-20   \n",
       "14  2017-03-20   \n",
       "15  2017-03-20   \n",
       "16  2017-03-17   \n",
       "17  2017-03-15   \n",
       "18  2017-03-15   \n",
       "19  2017-03-15   \n",
       "\n",
       "                                                                               Workout  \\\n",
       "0                                   5 RFT: Power Cleans, Walking Lunges, and Thrusters   \n",
       "1                                                                                Cindy   \n",
       "2                                                    21-15-9: Push Press and Box Jumps   \n",
       "3                                                                         Deadlift 4x3   \n",
       "4                                                                     Split Jerk 1 Rep   \n",
       "5                                                           Row : 3x 1 km, rest 3 mins   \n",
       "6                                                             CrossFit Games Open 17.5   \n",
       "7                                                    Every 1:30 for 10:30: Front Squat   \n",
       "8                                         AMRAP 5 mins: Squat Cleans and AbMat Sit-ups   \n",
       "9                                     AMRAP 5 mins: Hanging Knee Raises and Push Press   \n",
       "10                                               AMRAP 5 mins: Wall Balls and Pull-ups   \n",
       "11                    AMRAP 10 mins: Lateral Burpee (Over Barbell)s and Power Snatches   \n",
       "12                                                              Back Squat : 1 Rep Max   \n",
       "13                       5 RFT: 200 m, Dumbbell Walking Lunges, and Dumbbell Thrusters   \n",
       "14             Every 1 min for 10 mins: Hang Snatch High Pulls and Hang Squat Snatches   \n",
       "15                      Lifting: Weighted Strict Pull-ups and Weighted Strict Bar Dips   \n",
       "16                                                     CrossFit Games Open 16.4 / 17.4   \n",
       "17  Chipper: Pistols (Alternating Legs)s, Wall Balls, Burpees, and Hang Power Snatches   \n",
       "18                                                                Thruster 5-5-5-3-3-3   \n",
       "19                                    \"Tabata\" - AbMat Sit-ups : 8 x 20 secs / 10 secs   \n",
       "\n",
       "           Result Prescribed  Pukie  Work performed  Work time  \\\n",
       "0   399000.000000       True  False           42039   399000.0   \n",
       "1       11.133000       True  False           88204  1200000.0   \n",
       "2   419000.000000       True  False           21197   419000.0   \n",
       "3     1115.837230       True  False            6207        NaN   \n",
       "4       77.110703       True  False             300        NaN   \n",
       "5   771500.000000       True  False           93741   771500.0   \n",
       "6   982000.000000       True  False           66793   982000.0   \n",
       "7      857.289579       True  False            5848   630000.0   \n",
       "8        3.810000       True  False           29387   300000.0   \n",
       "9        3.000000       True  False            2780   300000.0   \n",
       "10       1.600000       True  False           10193   300000.0   \n",
       "11       2.833000       True  False           44381   600000.0   \n",
       "12     113.398093       True  False             604        NaN   \n",
       "13  930000.000000       True  False           68913   930000.0   \n",
       "14      10.000000       True  False            4387   600000.0   \n",
       "15       0.000000      False  False               0        NaN   \n",
       "16     165.000000       True  False           65071   780000.0   \n",
       "17  750000.000000       True  False           40195   750000.0   \n",
       "18    1075.013917       True  False           12804        NaN   \n",
       "19      92.000000       True  False           15150   240000.0   \n",
       "\n",
       "                                                              Formatted Result  \\\n",
       "0                                                               6 mins 39 secs   \n",
       "1                                            11 rounds + 2 Pull-ups | 332 reps   \n",
       "2                                                               6 mins 59 secs   \n",
       "3                            2460 lbs | 205 lbs, 205 lbs, 205 lbs, and 205 lbs   \n",
       "4                                                            170 lbs | 170 lbs   \n",
       "5                                                            12 mins 51.5 secs   \n",
       "6                                                              16 mins 22 secs   \n",
       "7                                                                     1890 lbs   \n",
       "8                      3 rounds + 7 Squat Cleans + 13 AbMat Sit-ups | 104 reps   \n",
       "9                                                           3 rounds | 84 reps   \n",
       "10                              1 round + 10 Wall Balls + 3 Pull-ups | 38 reps   \n",
       "11  2 rounds + 15 Lateral Burpee (Over Barbell)s + 10 Power Snatches | 85 reps   \n",
       "12                                                           250 lbs | 250 lbs   \n",
       "13                                                             15 mins 30 secs   \n",
       "14                                                                 10.0 rounds   \n",
       "15                0 lbs | lbs, lbs, lbs, lbs, lbs, lbs, lbs, lbs, lbs, and lbs   \n",
       "16                                                                    165 reps   \n",
       "17                                                             12 mins 30 secs   \n",
       "18            2370 lbs | 95 lbs, 95 lbs, 95 lbs, 105 lbs, 105 lbs, and 105 lbs   \n",
       "19                                                                92 reps | 92   \n",
       "\n",
       "                                                           Notes  \\\n",
       "0                                              Went out too hot    \n",
       "1                                                            NaN   \n",
       "2                Step ups, got a set of 13 pp on the first round   \n",
       "3                                                            NaN   \n",
       "4                                       Went for 175 but missed    \n",
       "5                                                            NaN   \n",
       "6      All thrusters unbroken,  5 of the rounds of dubs unbroken   \n",
       "7                                                            NaN   \n",
       "8                                                            NaN   \n",
       "9                                                            NaN   \n",
       "10                                           Singles on pull ups   \n",
       "11                                                           NaN   \n",
       "12                       10min to find after workout, felt solid   \n",
       "13                                             Didn't get lapped   \n",
       "14                                                           NaN   \n",
       "15                                          Purple band (medium)   \n",
       "16  Tie break 12:05, I attempt at hspu, happy I finished the row   \n",
       "17                                                           NaN   \n",
       "18                                                           NaN   \n",
       "19                                                           NaN   \n",
       "\n",
       "                                                                                                                                                                                                                                                                                                                                                           Description  \n",
       "0                                                                                                                                                                                                                                                                                 5 rounds of:\\n12 Power Cleans, 65 lbs\\n6 Walking Lunges, 65 lbs\\n3 Thrusters, 65 lbs  \n",
       "1                                                                                                                                                                                                                                                                                                                 20:00 AMRAP:\\n5 Pull-ups\\n10 Push-ups\\n15 Air Squats  \n",
       "2                                                                                                                                                                                                                                                                                                                21-15-9 reps of:\\nPush Press, 95 lbs\\nBox Jump, 20 in  \n",
       "3                                                                                                                                                                                                                                                                     Sets\\n3 Deadlifts | 205 lbs\\n3 Deadlifts | 205 lbs\\n3 Deadlifts | 205 lbs\\n3 Deadlifts | 205 lbs  \n",
       "4                                                                                                                                                                                                                                                                                                                                         Sets\\n1 Split Jerk | 170 lbs  \n",
       "5                                                                                                                                                                                                                                                                                  Intervals : rest 3 mins\\nRow, 1 km | 4:11.9\\nRow, 1 km | 4:19.3\\nRow, 1 km | 4:20.3  \n",
       "6                                                                                                                                                                                                                                                                                                                 10 rounds of:\\n9 Thrusters, 65 lbs\\n35 Double Unders  \n",
       "7                                                                                                                                                          Every 1:30 for 10:30:\\n2 Front Squats | 135 lbs\\n2 Front Squats | 135 lbs\\n2 Front Squats | 135 lbs\\n2 Front Squats | 135 lbs\\n2 Front Squats | 135 lbs\\n2 Front Squats | 135 lbs\\n2 Front Squats | 135 lbs  \n",
       "8                                                                                                                                                                                                                                                                                                                5:00 AMRAP:\\n7 Squat Cleans, 75 lbs\\n21 AbMat Sit-ups  \n",
       "9                                                                                                                                                                                                                                                                                                            5:00 AMRAP:\\n21 Hanging Knee Raises\\n7 Push Press, 75 lbs  \n",
       "10                                                                                                                                                                                                                                                                                                                     5:00 AMRAP:\\n10 Wall Balls, 14 lbs\\n15 Pull-ups  \n",
       "11                                                                                                                                                                                                                                                                                          10:00 AMRAP:\\n15 Lateral Burpee (Over Barbell)s\\n15 Power Snatches, 75 lbs  \n",
       "12                                                                                                                                                                                                                                                                                                                                        Sets\\n1 Back Squat | 250 lbs  \n",
       "13                                                                                                                                                                                                                                                                         5 rounds of:\\nRun, 200 m\\n12 Dumbbell Walking Lunges, 25 lbs\\n12 Dumbbell Thrusters, 25 lbs  \n",
       "14                                                                                                                                                                                                                                                                              Every 1 min for 10 mins:\\n1 Hang Snatch High Pull, 85 lbs\\n1 Hang Squat Snatch, 85 lbs  \n",
       "15  Sets\\n3 Weighted Strict Pull-ups |  lbs\\n3 Weighted Strict Pull-ups |  lbs\\n3 Weighted Strict Pull-ups |  lbs\\n3 Weighted Strict Pull-ups |  lbs\\n3 Weighted Strict Pull-ups |  lbs\\n3 Weighted Strict Bar Dips |  lbs\\n3 Weighted Strict Bar Dips |  lbs\\n3 Weighted Strict Bar Dips |  lbs\\n3 Weighted Strict Bar Dips |  lbs\\n3 Weighted Strict Bar Dips |  lbs  \n",
       "16                                                                                                                                                                                                                        AMReps in 13 mins:\\n55 Deadlifts, 155 lbs | 55 reps\\n55 Wall Balls, 14 lbs, 9 ft | 55 reps\\n55 Row Calories | 55 reps\\n55 Handstand Push-ups  \n",
       "17                                                                                                                                                                                                                                                             30 Pistols (Alternating Legs)s\\n30 Wall Balls, 14 lbs\\n30 Burpees, 4 in\\n30 Hang Power Snatches, 65 lbs  \n",
       "18                                                                                                                                                                                                                         Sets\\n5 Thrusters | 95 lbs\\n5 Thrusters | 95 lbs\\n5 Thrusters | 95 lbs\\n3 Thrusters | 105 lbs\\n3 Thrusters | 105 lbs\\n3 Thrusters | 105 lbs  \n",
       "19                                                                                                                                                                                                                                                                                                                       Tabata AbMat Sit-up | 12,11,12,12,11,11,12,11  "
      ]
     },
     "execution_count": 321,
     "metadata": {},
     "output_type": "execute_result"
    }
   ],
   "source": [
    "df = pd.read_csv('data.csv')"
   ]
  },
  {
   "cell_type": "code",
   "execution_count": 335,
   "metadata": {
    "collapsed": true
   },
   "outputs": [],
   "source": [
    "df_wo = pd.read_csv('df_wo.csv')"
   ]
  },
  {
   "cell_type": "code",
   "execution_count": 322,
   "metadata": {
    "collapsed": false
   },
   "outputs": [],
   "source": [
    "games_dis = []\n",
    "for row in df.Workout:\n",
    "    if 'Games' in row:\n",
    "        games_dis.append(list(df.loc[df.Workout == row,'Description'])[0])\n",
    "\n",
    "def add_games_dis(cell):\n",
    "    if 'Games' in cell:\n",
    "        return games_dis.pop(0)\n",
    "    else:\n",
    "        return cell    \n",
    "\n",
    "df.Workout = df.Workout.apply(lambda x: add_games_dis(x))"
   ]
  },
  {
   "cell_type": "code",
   "execution_count": 323,
   "metadata": {
    "collapsed": false
   },
   "outputs": [
    {
     "data": {
      "text/plain": [
       "(1778, 3)"
      ]
     },
     "execution_count": 323,
     "metadata": {},
     "output_type": "execute_result"
    }
   ],
   "source": [
    "unused_cols = df[['Pukie','Notes']]\n",
    "unused_cols.shape"
   ]
  },
  {
   "cell_type": "code",
   "execution_count": 324,
   "metadata": {
    "collapsed": true
   },
   "outputs": [],
   "source": [
    "df1 = df.drop(['Pukie','Notes'], axis=1)"
   ]
  },
  {
   "cell_type": "code",
   "execution_count": 325,
   "metadata": {
    "collapsed": false
   },
   "outputs": [
    {
     "data": {
      "text/plain": [
       "(1612, 8)"
      ]
     },
     "execution_count": 325,
     "metadata": {},
     "output_type": "execute_result"
    }
   ],
   "source": [
    "df1 = df1.dropna(subset=['Formatted Result'])\n",
    "df1.shape"
   ]
  },
  {
   "cell_type": "code",
   "execution_count": 327,
   "metadata": {
    "collapsed": false
   },
   "outputs": [
    {
     "data": {
      "text/plain": [
       "(63, 8)"
      ]
     },
     "execution_count": 327,
     "metadata": {},
     "output_type": "execute_result"
    }
   ],
   "source": [
    "no_work = df1.loc[(df['Formatted Result'] == 'Completed') & (df['Work performed'] == 0), :]\n",
    "no_work.shape"
   ]
  },
  {
   "cell_type": "code",
   "execution_count": 328,
   "metadata": {
    "collapsed": true
   },
   "outputs": [],
   "source": [
    "lifts = df1.loc[(df1['Work time'].isnull()) & (df1['Formatted Result'].str.endswith('| Completed') | df1['Formatted Result'].str.startswith('Completed |')), :]"
   ]
  },
  {
   "cell_type": "code",
   "execution_count": 330,
   "metadata": {
    "collapsed": false
   },
   "outputs": [],
   "source": [
    "df1['workout_name_length'] = df1['Workout'].apply(lambda x: len(x))"
   ]
  },
  {
   "cell_type": "code",
   "execution_count": 331,
   "metadata": {
    "collapsed": false
   },
   "outputs": [],
   "source": [
    "bench = df1.loc[df1['workout_name_length'] < 10,:].groupby('Workout')['workout_name_length'].mean()"
   ]
  },
  {
   "cell_type": "code",
   "execution_count": 332,
   "metadata": {
    "collapsed": false
   },
   "outputs": [],
   "source": [
    "bench = [x for x in bench.index]"
   ]
  },
  {
   "cell_type": "code",
   "execution_count": 333,
   "metadata": {
    "collapsed": false
   },
   "outputs": [],
   "source": [
    "workouts = [x for x in df1.Workout]\n",
    "work_string = ' '.join(workouts)"
   ]
  },
  {
   "cell_type": "code",
   "execution_count": 336,
   "metadata": {
    "collapsed": false
   },
   "outputs": [],
   "source": [
    "bench_dict = {}\n",
    "for x in df_wo.benchmark:\n",
    "    bench_dict[x] = df_wo.loc[df_wo.benchmark == x, 'move_list']\n"
   ]
  },
  {
   "cell_type": "code",
   "execution_count": 337,
   "metadata": {
    "collapsed": false
   },
   "outputs": [],
   "source": [
    "movements = pd.read_csv('movements.csv', index_col='Unnamed: 0')\n",
    "add_moves = [{'movement':'double-under','frequency':153,'move_class':'Monostructural'},{'movement':'squat','frequency':63,'move_class':'Gymnastics'}]\n",
    "am = pd.DataFrame(add_moves)\n",
    "new_move = pd.concat([movements,am])\n"
   ]
  },
  {
   "cell_type": "code",
   "execution_count": 338,
   "metadata": {
    "collapsed": false
   },
   "outputs": [],
   "source": [
    "move_dict = movements.movement.to_dict()\n",
    "res = dict((v,k) for k,v in move_dict.iteritems())"
   ]
  },
  {
   "cell_type": "code",
   "execution_count": 340,
   "metadata": {
    "collapsed": false
   },
   "outputs": [],
   "source": [
    "for x in workouts:\n",
    "    if x.lower() in bench_dict:\n",
    "        y = bench_dict[x.lower()].tolist()[0].split(\"'\")[1::2]\n",
    "        workouts[workouts.index(x)] = x + ':'+ ' '.join(y)\n",
    "    if 'Games' in x:\n",
    "        workouts[workouts.index(x)] = games_dis.pop(0) \n"
   ]
  },
  {
   "cell_type": "code",
   "execution_count": 341,
   "metadata": {
    "collapsed": false
   },
   "outputs": [],
   "source": [
    "move_in_work = []\n",
    "for w in workouts:\n",
    "    moves = []\n",
    "    if w in bench:\n",
    "        moves.append(w)\n",
    "    for m in new_move.movement:\n",
    "        if m in w.lower():\n",
    "            moves.append(m)\n",
    "    move_in_work.append(moves)\n",
    "    \n",
    "bar = [', '.join(x) for x in move_in_work]\n"
   ]
  },
  {
   "cell_type": "code",
   "execution_count": 342,
   "metadata": {
    "collapsed": false
   },
   "outputs": [
    {
     "data": {
      "text/plain": [
       "147"
      ]
     },
     "execution_count": 342,
     "metadata": {},
     "output_type": "execute_result"
    }
   ],
   "source": [
    "move_in_bench = []\n",
    "for w in df_wo.move_list:\n",
    "    moves = []\n",
    "    for m in movements.movement:\n",
    "        if m in w.lower():\n",
    "            moves.append(m)\n",
    "    move_in_bench.append(moves)\n",
    "    \n",
    "foo = [','.join(x) for x in move_in_bench]\n",
    "len(foo)"
   ]
  },
  {
   "cell_type": "code",
   "execution_count": 343,
   "metadata": {
    "collapsed": false
   },
   "outputs": [],
   "source": [
    "df_wo['movements'] = move_in_bench\n"
   ]
  },
  {
   "cell_type": "code",
   "execution_count": 344,
   "metadata": {
    "collapsed": false
   },
   "outputs": [],
   "source": [
    "df1['Workout'] = workouts"
   ]
  },
  {
   "cell_type": "code",
   "execution_count": 345,
   "metadata": {
    "collapsed": false
   },
   "outputs": [],
   "source": [
    "df1['Movements'] = bar"
   ]
  },
  {
   "cell_type": "code",
   "execution_count": 346,
   "metadata": {
    "collapsed": true
   },
   "outputs": [],
   "source": [
    "df1['power'] = df['Work performed'] / (df['Work time']/1000)"
   ]
  },
  {
   "cell_type": "code",
   "execution_count": 348,
   "metadata": {
    "collapsed": false
   },
   "outputs": [],
   "source": [
    "df1 = df1.loc[(df1['Work performed']>1000) & (df1['Work time'] < 5000000),:].copy()"
   ]
  },
  {
   "cell_type": "code",
   "execution_count": 352,
   "metadata": {
    "collapsed": true
   },
   "outputs": [],
   "source": [
    "from sklearn.feature_extraction.text import CountVectorizer"
   ]
  },
  {
   "cell_type": "code",
   "execution_count": 353,
   "metadata": {
    "collapsed": false
   },
   "outputs": [],
   "source": [
    "X = df1['Movements']\n",
    "\n",
    "vect = CountVectorizer(vocabulary=res)\n",
    "#token_pattern =u'(?u)\\\\b[a-zA-Z_]{2,}\\\\b' \n",
    "#(?u)\\b([a-zA-Z-]+?)(s\\b|\\b)\\b\n",
    "X_vect = vect.fit_transform(X)"
   ]
  },
  {
   "cell_type": "code",
   "execution_count": 354,
   "metadata": {
    "collapsed": false
   },
   "outputs": [
    {
     "data": {
      "text/plain": [
       "741"
      ]
     },
     "execution_count": 354,
     "metadata": {},
     "output_type": "execute_result"
    }
   ],
   "source": [
    "len(X)"
   ]
  },
  {
   "cell_type": "code",
   "execution_count": 362,
   "metadata": {
    "collapsed": false
   },
   "outputs": [
    {
     "data": {
      "text/plain": [
       "<741x428 sparse matrix of type '<type 'numpy.int64'>'\n",
       "\twith 703 stored elements in Compressed Sparse Row format>"
      ]
     },
     "execution_count": 362,
     "metadata": {},
     "output_type": "execute_result"
    }
   ],
   "source": [
    "X_vect"
   ]
  },
  {
   "cell_type": "code",
   "execution_count": 356,
   "metadata": {
    "collapsed": true
   },
   "outputs": [],
   "source": [
    "dtm = pd.DataFrame(X_vect.toarray(), columns = vect.get_feature_names())"
   ]
  },
  {
   "cell_type": "code",
   "execution_count": 360,
   "metadata": {
    "collapsed": false
   },
   "outputs": [
    {
     "data": {
      "text/plain": [
       "(486, 436)"
      ]
     },
     "execution_count": 360,
     "metadata": {},
     "output_type": "execute_result"
    }
   ],
   "source": [
    "dtm = pd.concat([df1[['Work performed','Work time','power','Movements']], dtm], axis=1, join='left')\n",
    "dtm.shape"
   ]
  },
  {
   "cell_type": "code",
   "execution_count": 192,
   "metadata": {
    "collapsed": false
   },
   "outputs": [
    {
     "data": {
      "text/plain": [
       "52"
      ]
     },
     "execution_count": 192,
     "metadata": {},
     "output_type": "execute_result"
    }
   ],
   "source": [
    "len(df1.loc[df1['Workout'].apply(len)<20,:])"
   ]
  },
  {
   "cell_type": "code",
   "execution_count": 359,
   "metadata": {
    "collapsed": false
   },
   "outputs": [],
   "source": [
    "dtm.to_csv('model_wo.csv')"
   ]
  },
  {
   "cell_type": "code",
   "execution_count": null,
   "metadata": {
    "collapsed": false
   },
   "outputs": [],
   "source": []
  },
  {
   "cell_type": "code",
   "execution_count": null,
   "metadata": {
    "collapsed": true
   },
   "outputs": [],
   "source": []
  }
 ],
 "metadata": {
  "kernelspec": {
   "display_name": "Python 2",
   "language": "python",
   "name": "python2"
  },
  "language_info": {
   "codemirror_mode": {
    "name": "ipython",
    "version": 2
   },
   "file_extension": ".py",
   "mimetype": "text/x-python",
   "name": "python",
   "nbconvert_exporter": "python",
   "pygments_lexer": "ipython2",
   "version": "2.7.13"
  }
 },
 "nbformat": 4,
 "nbformat_minor": 2
}
