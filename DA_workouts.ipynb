{
 "cells": [
  {
   "cell_type": "code",
   "execution_count": 74,
   "metadata": {
    "collapsed": true
   },
   "outputs": [],
   "source": [
    "import pandas as pd\n",
    "import seaborn as sns\n",
    "import matplotlib.pyplot as plt\n",
    "import re\n",
    "%matplotlib inline\n",
    "pd.set_option('display.max_colwidth',999)"
   ]
  },
  {
   "cell_type": "markdown",
   "metadata": {},
   "source": [
    "### Variable List\n",
    "df --> DataFrame (1778,10) with original data\n",
    "\n",
    "df1 --> DataFrame (1612,7) with unused_cols dropped, and null values from Formatted Result dropped\n",
    "\n",
    "unused_cols -->  DataFrame (1778,3) columns Pukie, Notes and Description\n",
    "\n",
    "no_work--> DataFrame (63,7) no work was performed - Warmsups and Cooldowns, not needed for performance calcs\n",
    "\n",
    "lifts --> DataFrame (45,7) lifts only, work completed but no time.  These will be used to calculate volume abilities. \n",
    "\n"
   ]
  },
  {
   "cell_type": "code",
   "execution_count": 75,
   "metadata": {
    "collapsed": false
   },
   "outputs": [],
   "source": [
    "df = pd.read_csv('data.csv')"
   ]
  },
  {
   "cell_type": "code",
   "execution_count": 76,
   "metadata": {
    "collapsed": true
   },
   "outputs": [],
   "source": [
    "df_wo = pd.read_csv('df_wo.csv')"
   ]
  },
  {
   "cell_type": "code",
   "execution_count": 77,
   "metadata": {
    "collapsed": false
   },
   "outputs": [],
   "source": [
    "games_dis = []\n",
    "for row in df.Workout:\n",
    "    if 'Games' in row:\n",
    "        games_dis.append(list(df.loc[df.Workout == row,'Description'])[0])\n",
    "\n",
    "def add_games_dis(cell):\n",
    "    if 'Games' in cell:\n",
    "        return games_dis.pop(0)\n",
    "    else:\n",
    "        return cell    \n",
    "\n",
    "df.Workout = df.Workout.apply(lambda x: add_games_dis(x))"
   ]
  },
  {
   "cell_type": "code",
   "execution_count": 78,
   "metadata": {
    "collapsed": false
   },
   "outputs": [
    {
     "data": {
      "text/plain": [
       "(1778, 2)"
      ]
     },
     "execution_count": 78,
     "metadata": {},
     "output_type": "execute_result"
    }
   ],
   "source": [
    "unused_cols = df[['Pukie','Notes']]\n",
    "unused_cols.shape"
   ]
  },
  {
   "cell_type": "code",
   "execution_count": 79,
   "metadata": {
    "collapsed": true
   },
   "outputs": [],
   "source": [
    "df1 = df.drop(['Pukie','Notes'], axis=1)"
   ]
  },
  {
   "cell_type": "code",
   "execution_count": 80,
   "metadata": {
    "collapsed": false
   },
   "outputs": [
    {
     "data": {
      "text/plain": [
       "(1612, 8)"
      ]
     },
     "execution_count": 80,
     "metadata": {},
     "output_type": "execute_result"
    }
   ],
   "source": [
    "df1 = df1.dropna(subset=['Formatted Result'])\n",
    "df1.shape"
   ]
  },
  {
   "cell_type": "code",
   "execution_count": 81,
   "metadata": {
    "collapsed": false
   },
   "outputs": [
    {
     "data": {
      "text/plain": [
       "(63, 8)"
      ]
     },
     "execution_count": 81,
     "metadata": {},
     "output_type": "execute_result"
    }
   ],
   "source": [
    "no_work = df1.loc[(df['Formatted Result'] == 'Completed') & (df['Work performed'] == 0), :]\n",
    "no_work.shape"
   ]
  },
  {
   "cell_type": "code",
   "execution_count": 82,
   "metadata": {
    "collapsed": true
   },
   "outputs": [],
   "source": [
    "lifts = df1.loc[(df1['Work time'].isnull()) & (df1['Formatted Result'].str.endswith('| Completed') | df1['Formatted Result'].str.startswith('Completed |')), :]"
   ]
  },
  {
   "cell_type": "code",
   "execution_count": 83,
   "metadata": {
    "collapsed": false
   },
   "outputs": [],
   "source": [
    "df1['workout_name_length'] = df1['Workout'].apply(lambda x: len(x))"
   ]
  },
  {
   "cell_type": "code",
   "execution_count": 84,
   "metadata": {
    "collapsed": false
   },
   "outputs": [],
   "source": [
    "bench = df1.loc[df1['workout_name_length'] < 10,:].groupby('Workout')['workout_name_length'].mean()"
   ]
  },
  {
   "cell_type": "code",
   "execution_count": 85,
   "metadata": {
    "collapsed": false
   },
   "outputs": [],
   "source": [
    "bench = [x for x in bench.index]"
   ]
  },
  {
   "cell_type": "code",
   "execution_count": 86,
   "metadata": {
    "collapsed": false
   },
   "outputs": [],
   "source": [
    "workouts = [x for x in df1.Workout]\n",
    "work_string = ' '.join(workouts)"
   ]
  },
  {
   "cell_type": "code",
   "execution_count": 87,
   "metadata": {
    "collapsed": false
   },
   "outputs": [],
   "source": [
    "bench_dict = {}\n",
    "for x in df_wo.benchmark:\n",
    "    bench_dict[x] = df_wo.loc[df_wo.benchmark == x, 'move_list']\n"
   ]
  },
  {
   "cell_type": "code",
   "execution_count": 88,
   "metadata": {
    "collapsed": false
   },
   "outputs": [],
   "source": [
    "movements = pd.read_csv('movements.csv', index_col='Unnamed: 0')\n",
    "add_moves = [{'movement':'double-under','frequency':153,'move_class':'Monostructural'},{'movement':'squat','frequency':63,'move_class':'Gymnastics'}]\n",
    "am = pd.DataFrame(add_moves)\n",
    "new_move = pd.concat([movements,am])\n"
   ]
  },
  {
   "cell_type": "code",
   "execution_count": 89,
   "metadata": {
    "collapsed": false
   },
   "outputs": [],
   "source": [
    "move_dict = movements.movement.to_dict()\n",
    "res = dict((v,k) for k,v in move_dict.iteritems())"
   ]
  },
  {
   "cell_type": "code",
   "execution_count": 90,
   "metadata": {
    "collapsed": false
   },
   "outputs": [],
   "source": [
    "for x in workouts:\n",
    "    if x.lower() in bench_dict:\n",
    "        y = bench_dict[x.lower()].tolist()[0].split(\"'\")[1::2]\n",
    "        workouts[workouts.index(x)] = x + ':'+ ' '.join(y)\n",
    "    if 'Games' in x:\n",
    "        workouts[workouts.index(x)] = games_dis.pop(0) \n"
   ]
  },
  {
   "cell_type": "code",
   "execution_count": 91,
   "metadata": {
    "collapsed": false
   },
   "outputs": [],
   "source": [
    "move_in_work = []\n",
    "for w in workouts:\n",
    "    moves = []\n",
    "    if w in bench:\n",
    "        moves.append(w)\n",
    "    for m in new_move.movement:\n",
    "        if m in w.lower():\n",
    "            moves.append(m)\n",
    "    move_in_work.append(moves)\n",
    "    \n",
    "bar = [', '.join(x) for x in move_in_work]\n"
   ]
  },
  {
   "cell_type": "code",
   "execution_count": 92,
   "metadata": {
    "collapsed": false
   },
   "outputs": [
    {
     "data": {
      "text/plain": [
       "147"
      ]
     },
     "execution_count": 92,
     "metadata": {},
     "output_type": "execute_result"
    }
   ],
   "source": [
    "move_in_bench = []\n",
    "for w in df_wo.move_list:\n",
    "    moves = []\n",
    "    for m in movements.movement:\n",
    "        if m in w.lower():\n",
    "            moves.append(m)\n",
    "    move_in_bench.append(moves)\n",
    "    \n",
    "foo = [','.join(x) for x in move_in_bench]\n",
    "len(foo)"
   ]
  },
  {
   "cell_type": "code",
   "execution_count": 93,
   "metadata": {
    "collapsed": false
   },
   "outputs": [],
   "source": [
    "df_wo['movements'] = move_in_bench\n"
   ]
  },
  {
   "cell_type": "code",
   "execution_count": 94,
   "metadata": {
    "collapsed": false
   },
   "outputs": [],
   "source": [
    "df1['Workout'] = workouts"
   ]
  },
  {
   "cell_type": "code",
   "execution_count": 95,
   "metadata": {
    "collapsed": false
   },
   "outputs": [],
   "source": [
    "df1['Movements'] = bar"
   ]
  },
  {
   "cell_type": "code",
   "execution_count": 96,
   "metadata": {
    "collapsed": true
   },
   "outputs": [],
   "source": [
    "df1['power'] = df['Work performed'] / (df['Work time']/1000)"
   ]
  },
  {
   "cell_type": "code",
   "execution_count": 97,
   "metadata": {
    "collapsed": false
   },
   "outputs": [],
   "source": [
    "df1 = df1.loc[(df1['Work performed']>1000) & (df1['Work time'] < 5000000),:].copy()"
   ]
  },
  {
   "cell_type": "code",
   "execution_count": 98,
   "metadata": {
    "collapsed": false
   },
   "outputs": [],
   "source": [
    "df1.reset_index(drop=True, inplace=True)"
   ]
  },
  {
   "cell_type": "code",
   "execution_count": 99,
   "metadata": {
    "collapsed": false
   },
   "outputs": [
    {
     "data": {
      "text/html": [
       "<div>\n",
       "<table border=\"1\" class=\"dataframe\">\n",
       "  <thead>\n",
       "    <tr style=\"text-align: right;\">\n",
       "      <th></th>\n",
       "      <th>Date</th>\n",
       "      <th>Workout</th>\n",
       "      <th>Result</th>\n",
       "      <th>Prescribed</th>\n",
       "      <th>Work performed</th>\n",
       "      <th>Work time</th>\n",
       "      <th>Formatted Result</th>\n",
       "      <th>Description</th>\n",
       "      <th>workout_name_length</th>\n",
       "      <th>Movements</th>\n",
       "      <th>power</th>\n",
       "    </tr>\n",
       "  </thead>\n",
       "  <tbody>\n",
       "    <tr>\n",
       "      <th>0</th>\n",
       "      <td>2017-04-04</td>\n",
       "      <td>5 RFT: Power Cleans, Walking Lunges, and Thrusters</td>\n",
       "      <td>399000.000</td>\n",
       "      <td>True</td>\n",
       "      <td>42039</td>\n",
       "      <td>399000.0</td>\n",
       "      <td>6 mins 39 secs</td>\n",
       "      <td>5 rounds of:\\n12 Power Cleans, 65 lbs\\n6 Walking Lunges, 65 lbs\\n3 Thrusters, 65 lbs</td>\n",
       "      <td>50</td>\n",
       "      <td>lunge, walking lunge, clean, power clean, thruster</td>\n",
       "      <td>105.360902</td>\n",
       "    </tr>\n",
       "    <tr>\n",
       "      <th>1</th>\n",
       "      <td>2017-04-02</td>\n",
       "      <td>Cindy:5 Pull-ups 10 Push-ups 15 Squats As many rounds as possible in 20 minutes</td>\n",
       "      <td>11.133</td>\n",
       "      <td>True</td>\n",
       "      <td>88204</td>\n",
       "      <td>1200000.0</td>\n",
       "      <td>11 rounds + 2 Pull-ups | 332 reps</td>\n",
       "      <td>20:00 AMRAP:\\n5 Pull-ups\\n10 Push-ups\\n15 Air Squats</td>\n",
       "      <td>5</td>\n",
       "      <td>pull-up, push-up, squat</td>\n",
       "      <td>73.503333</td>\n",
       "    </tr>\n",
       "    <tr>\n",
       "      <th>2</th>\n",
       "      <td>2017-03-28</td>\n",
       "      <td>21-15-9: Push Press and Box Jumps</td>\n",
       "      <td>419000.000</td>\n",
       "      <td>True</td>\n",
       "      <td>21197</td>\n",
       "      <td>419000.0</td>\n",
       "      <td>6 mins 59 secs</td>\n",
       "      <td>21-15-9 reps of:\\nPush Press, 95 lbs\\nBox Jump, 20 in</td>\n",
       "      <td>33</td>\n",
       "      <td>box jump, press, push press</td>\n",
       "      <td>50.589499</td>\n",
       "    </tr>\n",
       "    <tr>\n",
       "      <th>3</th>\n",
       "      <td>2017-03-26</td>\n",
       "      <td>Row : 3x 1 km, rest 3 mins</td>\n",
       "      <td>771500.000</td>\n",
       "      <td>True</td>\n",
       "      <td>93741</td>\n",
       "      <td>771500.0</td>\n",
       "      <td>12 mins 51.5 secs</td>\n",
       "      <td>Intervals : rest 3 mins\\nRow, 1 km | 4:11.9\\nRow, 1 km | 4:19.3\\nRow, 1 km | 4:20.3</td>\n",
       "      <td>26</td>\n",
       "      <td>row</td>\n",
       "      <td>121.504861</td>\n",
       "    </tr>\n",
       "    <tr>\n",
       "      <th>4</th>\n",
       "      <td>2017-03-24</td>\n",
       "      <td>10 rounds of:\\n9 Thrusters, 65 lbs\\n35 Double Unders</td>\n",
       "      <td>982000.000</td>\n",
       "      <td>True</td>\n",
       "      <td>66793</td>\n",
       "      <td>982000.0</td>\n",
       "      <td>16 mins 22 secs</td>\n",
       "      <td>10 rounds of:\\n9 Thrusters, 65 lbs\\n35 Double Unders</td>\n",
       "      <td>50</td>\n",
       "      <td>double under, thruster</td>\n",
       "      <td>68.017312</td>\n",
       "    </tr>\n",
       "  </tbody>\n",
       "</table>\n",
       "</div>"
      ],
      "text/plain": [
       "         Date  \\\n",
       "0  2017-04-04   \n",
       "1  2017-04-02   \n",
       "2  2017-03-28   \n",
       "3  2017-03-26   \n",
       "4  2017-03-24   \n",
       "\n",
       "                                                                           Workout  \\\n",
       "0                               5 RFT: Power Cleans, Walking Lunges, and Thrusters   \n",
       "1  Cindy:5 Pull-ups 10 Push-ups 15 Squats As many rounds as possible in 20 minutes   \n",
       "2                                                21-15-9: Push Press and Box Jumps   \n",
       "3                                                       Row : 3x 1 km, rest 3 mins   \n",
       "4                             10 rounds of:\\n9 Thrusters, 65 lbs\\n35 Double Unders   \n",
       "\n",
       "       Result Prescribed  Work performed  Work time  \\\n",
       "0  399000.000       True           42039   399000.0   \n",
       "1      11.133       True           88204  1200000.0   \n",
       "2  419000.000       True           21197   419000.0   \n",
       "3  771500.000       True           93741   771500.0   \n",
       "4  982000.000       True           66793   982000.0   \n",
       "\n",
       "                    Formatted Result  \\\n",
       "0                     6 mins 39 secs   \n",
       "1  11 rounds + 2 Pull-ups | 332 reps   \n",
       "2                     6 mins 59 secs   \n",
       "3                  12 mins 51.5 secs   \n",
       "4                    16 mins 22 secs   \n",
       "\n",
       "                                                                            Description  \\\n",
       "0  5 rounds of:\\n12 Power Cleans, 65 lbs\\n6 Walking Lunges, 65 lbs\\n3 Thrusters, 65 lbs   \n",
       "1                                  20:00 AMRAP:\\n5 Pull-ups\\n10 Push-ups\\n15 Air Squats   \n",
       "2                                 21-15-9 reps of:\\nPush Press, 95 lbs\\nBox Jump, 20 in   \n",
       "3   Intervals : rest 3 mins\\nRow, 1 km | 4:11.9\\nRow, 1 km | 4:19.3\\nRow, 1 km | 4:20.3   \n",
       "4                                  10 rounds of:\\n9 Thrusters, 65 lbs\\n35 Double Unders   \n",
       "\n",
       "   workout_name_length                                           Movements  \\\n",
       "0                   50  lunge, walking lunge, clean, power clean, thruster   \n",
       "1                    5                             pull-up, push-up, squat   \n",
       "2                   33                         box jump, press, push press   \n",
       "3                   26                                                 row   \n",
       "4                   50                              double under, thruster   \n",
       "\n",
       "        power  \n",
       "0  105.360902  \n",
       "1   73.503333  \n",
       "2   50.589499  \n",
       "3  121.504861  \n",
       "4   68.017312  "
      ]
     },
     "execution_count": 99,
     "metadata": {},
     "output_type": "execute_result"
    }
   ],
   "source": [
    "df1.head()"
   ]
  },
  {
   "cell_type": "code",
   "execution_count": 100,
   "metadata": {
    "collapsed": true
   },
   "outputs": [],
   "source": [
    "from sklearn.feature_extraction.text import CountVectorizer"
   ]
  },
  {
   "cell_type": "code",
   "execution_count": 101,
   "metadata": {
    "collapsed": false
   },
   "outputs": [],
   "source": [
    "X = df1['Movements']\n",
    "\n",
    "vect = CountVectorizer(vocabulary=res)\n",
    "\n",
    "X_vect = vect.fit_transform(X)"
   ]
  },
  {
   "cell_type": "code",
   "execution_count": 102,
   "metadata": {
    "collapsed": false
   },
   "outputs": [
    {
     "data": {
      "text/plain": [
       "741"
      ]
     },
     "execution_count": 102,
     "metadata": {},
     "output_type": "execute_result"
    }
   ],
   "source": [
    "len(X)"
   ]
  },
  {
   "cell_type": "code",
   "execution_count": 103,
   "metadata": {
    "collapsed": false
   },
   "outputs": [
    {
     "data": {
      "text/plain": [
       "<741x428 sparse matrix of type '<type 'numpy.int64'>'\n",
       "\twith 703 stored elements in Compressed Sparse Row format>"
      ]
     },
     "execution_count": 103,
     "metadata": {},
     "output_type": "execute_result"
    }
   ],
   "source": [
    "X_vect"
   ]
  },
  {
   "cell_type": "code",
   "execution_count": 104,
   "metadata": {
    "collapsed": true
   },
   "outputs": [],
   "source": [
    "dtm = pd.DataFrame(X_vect.toarray(), columns = vect.get_feature_names())"
   ]
  },
  {
   "cell_type": "code",
   "execution_count": 105,
   "metadata": {
    "collapsed": false
   },
   "outputs": [
    {
     "data": {
      "text/html": [
       "<div>\n",
       "<table border=\"1\" class=\"dataframe\">\n",
       "  <thead>\n",
       "    <tr style=\"text-align: right;\">\n",
       "      <th></th>\n",
       "      <th>Work performed</th>\n",
       "      <th>Work time</th>\n",
       "      <th>power</th>\n",
       "      <th>Movements</th>\n",
       "      <th>Date</th>\n",
       "      <th>airdyne bike</th>\n",
       "      <th>airdyne calories</th>\n",
       "      <th>assault bike</th>\n",
       "      <th>assault bike calories</th>\n",
       "      <th>back stroke, swimming</th>\n",
       "      <th>...</th>\n",
       "      <th>weighted push-up</th>\n",
       "      <th>weighted sit-up</th>\n",
       "      <th>weighted step ups holding dumbbell</th>\n",
       "      <th>weighted strict bar dip</th>\n",
       "      <th>weighted strict pull-up</th>\n",
       "      <th>weighted strict ring dip</th>\n",
       "      <th>weighted walking lunge</th>\n",
       "      <th>yoke carry</th>\n",
       "      <th>zercher squat</th>\n",
       "      <th>zercher yoke carry</th>\n",
       "    </tr>\n",
       "  </thead>\n",
       "  <tbody>\n",
       "    <tr>\n",
       "      <th>0</th>\n",
       "      <td>42039</td>\n",
       "      <td>399000.0</td>\n",
       "      <td>105.360902</td>\n",
       "      <td>lunge, walking lunge, clean, power clean, thruster</td>\n",
       "      <td>2017-04-04</td>\n",
       "      <td>0</td>\n",
       "      <td>0</td>\n",
       "      <td>0</td>\n",
       "      <td>0</td>\n",
       "      <td>0</td>\n",
       "      <td>...</td>\n",
       "      <td>0</td>\n",
       "      <td>0</td>\n",
       "      <td>0</td>\n",
       "      <td>0</td>\n",
       "      <td>0</td>\n",
       "      <td>0</td>\n",
       "      <td>0</td>\n",
       "      <td>0</td>\n",
       "      <td>0</td>\n",
       "      <td>0</td>\n",
       "    </tr>\n",
       "    <tr>\n",
       "      <th>1</th>\n",
       "      <td>88204</td>\n",
       "      <td>1200000.0</td>\n",
       "      <td>73.503333</td>\n",
       "      <td>pull-up, push-up, squat</td>\n",
       "      <td>2017-04-02</td>\n",
       "      <td>0</td>\n",
       "      <td>0</td>\n",
       "      <td>0</td>\n",
       "      <td>0</td>\n",
       "      <td>0</td>\n",
       "      <td>...</td>\n",
       "      <td>0</td>\n",
       "      <td>0</td>\n",
       "      <td>0</td>\n",
       "      <td>0</td>\n",
       "      <td>0</td>\n",
       "      <td>0</td>\n",
       "      <td>0</td>\n",
       "      <td>0</td>\n",
       "      <td>0</td>\n",
       "      <td>0</td>\n",
       "    </tr>\n",
       "    <tr>\n",
       "      <th>2</th>\n",
       "      <td>21197</td>\n",
       "      <td>419000.0</td>\n",
       "      <td>50.589499</td>\n",
       "      <td>box jump, press, push press</td>\n",
       "      <td>2017-03-28</td>\n",
       "      <td>0</td>\n",
       "      <td>0</td>\n",
       "      <td>0</td>\n",
       "      <td>0</td>\n",
       "      <td>0</td>\n",
       "      <td>...</td>\n",
       "      <td>0</td>\n",
       "      <td>0</td>\n",
       "      <td>0</td>\n",
       "      <td>0</td>\n",
       "      <td>0</td>\n",
       "      <td>0</td>\n",
       "      <td>0</td>\n",
       "      <td>0</td>\n",
       "      <td>0</td>\n",
       "      <td>0</td>\n",
       "    </tr>\n",
       "    <tr>\n",
       "      <th>3</th>\n",
       "      <td>93741</td>\n",
       "      <td>771500.0</td>\n",
       "      <td>121.504861</td>\n",
       "      <td>row</td>\n",
       "      <td>2017-03-26</td>\n",
       "      <td>0</td>\n",
       "      <td>0</td>\n",
       "      <td>0</td>\n",
       "      <td>0</td>\n",
       "      <td>0</td>\n",
       "      <td>...</td>\n",
       "      <td>0</td>\n",
       "      <td>0</td>\n",
       "      <td>0</td>\n",
       "      <td>0</td>\n",
       "      <td>0</td>\n",
       "      <td>0</td>\n",
       "      <td>0</td>\n",
       "      <td>0</td>\n",
       "      <td>0</td>\n",
       "      <td>0</td>\n",
       "    </tr>\n",
       "    <tr>\n",
       "      <th>4</th>\n",
       "      <td>66793</td>\n",
       "      <td>982000.0</td>\n",
       "      <td>68.017312</td>\n",
       "      <td>double under, thruster</td>\n",
       "      <td>2017-03-24</td>\n",
       "      <td>0</td>\n",
       "      <td>0</td>\n",
       "      <td>0</td>\n",
       "      <td>0</td>\n",
       "      <td>0</td>\n",
       "      <td>...</td>\n",
       "      <td>0</td>\n",
       "      <td>0</td>\n",
       "      <td>0</td>\n",
       "      <td>0</td>\n",
       "      <td>0</td>\n",
       "      <td>0</td>\n",
       "      <td>0</td>\n",
       "      <td>0</td>\n",
       "      <td>0</td>\n",
       "      <td>0</td>\n",
       "    </tr>\n",
       "  </tbody>\n",
       "</table>\n",
       "<p>5 rows × 433 columns</p>\n",
       "</div>"
      ],
      "text/plain": [
       "   Work performed  Work time       power  \\\n",
       "0           42039   399000.0  105.360902   \n",
       "1           88204  1200000.0   73.503333   \n",
       "2           21197   419000.0   50.589499   \n",
       "3           93741   771500.0  121.504861   \n",
       "4           66793   982000.0   68.017312   \n",
       "\n",
       "                                            Movements        Date  \\\n",
       "0  lunge, walking lunge, clean, power clean, thruster  2017-04-04   \n",
       "1                             pull-up, push-up, squat  2017-04-02   \n",
       "2                         box jump, press, push press  2017-03-28   \n",
       "3                                                 row  2017-03-26   \n",
       "4                              double under, thruster  2017-03-24   \n",
       "\n",
       "   airdyne bike  airdyne calories  assault bike  assault bike calories  \\\n",
       "0             0                 0             0                      0   \n",
       "1             0                 0             0                      0   \n",
       "2             0                 0             0                      0   \n",
       "3             0                 0             0                      0   \n",
       "4             0                 0             0                      0   \n",
       "\n",
       "   back stroke, swimming         ...          weighted push-up  \\\n",
       "0                      0         ...                         0   \n",
       "1                      0         ...                         0   \n",
       "2                      0         ...                         0   \n",
       "3                      0         ...                         0   \n",
       "4                      0         ...                         0   \n",
       "\n",
       "   weighted sit-up  weighted step ups holding dumbbell  \\\n",
       "0                0                                   0   \n",
       "1                0                                   0   \n",
       "2                0                                   0   \n",
       "3                0                                   0   \n",
       "4                0                                   0   \n",
       "\n",
       "   weighted strict bar dip  weighted strict pull-up  weighted strict ring dip  \\\n",
       "0                        0                        0                         0   \n",
       "1                        0                        0                         0   \n",
       "2                        0                        0                         0   \n",
       "3                        0                        0                         0   \n",
       "4                        0                        0                         0   \n",
       "\n",
       "   weighted walking lunge  yoke carry  zercher squat  zercher yoke carry  \n",
       "0                       0           0              0                   0  \n",
       "1                       0           0              0                   0  \n",
       "2                       0           0              0                   0  \n",
       "3                       0           0              0                   0  \n",
       "4                       0           0              0                   0  \n",
       "\n",
       "[5 rows x 433 columns]"
      ]
     },
     "execution_count": 105,
     "metadata": {},
     "output_type": "execute_result"
    }
   ],
   "source": [
    "dtm = pd.concat([df1[['Work performed','Work time','power','Movements','Date']], dtm], axis=1)\n",
    "dtm.head()"
   ]
  },
  {
   "cell_type": "code",
   "execution_count": 38,
   "metadata": {
    "collapsed": false
   },
   "outputs": [],
   "source": [
    "dtm.to_csv('model_wo.csv')"
   ]
  },
  {
   "cell_type": "markdown",
   "metadata": {},
   "source": [
    "Basic Linear Regression with Train_test_split"
   ]
  },
  {
   "cell_type": "code",
   "execution_count": 123,
   "metadata": {
    "collapsed": false
   },
   "outputs": [
    {
     "name": "stdout",
     "output_type": "stream",
     "text": [
      "cross_val_score: -8.86155901378e+24\n",
      "R2 score: 0.656662141824\n"
     ]
    },
    {
     "data": {
      "image/png": "[encoded data removed]",
      "text/plain": [
       "<matplotlib.figure.Figure at 0xbb65128>"
      ]
     },
     "metadata": {},
     "output_type": "display_data"
    }
   ],
   "source": [
    "feature_cols = [c for c in dtm.columns if c != 'power' and c != 'Movements' and c != 'Date' and c!= 'Work performed']\n",
    "X = dtm[feature_cols]\n",
    "y = dtm['Work performed']\n",
    "\n",
    "from sklearn.linear_model import LinearRegression\n",
    "from sklearn.model_selection import train_test_split\n",
    "\n",
    "\n",
    "X_train, X_test, y_train, y_test = train_test_split(Xs, y, random_state=2008)\n",
    "\n",
    "lr = LinearRegression()\n",
    "lr.fit(X_train,y_train)\n",
    "\n",
    "\n",
    "from sklearn.model_selection import cross_val_score\n",
    "\n",
    "print 'cross_val_score: {}'.format(cross_val_score(lr, X_train, y_train, cv =5).mean())\n",
    "\n",
    "pred = lr.predict(X_test)\n",
    "\n",
    "plt.scatter(pred, pred - y_test)\n",
    "plt.hlines(y = 0, xmin= pred.min(), xmax=pred.max())\n",
    "\n",
    "from sklearn.metrics import r2_score\n",
    "print 'R2 score: {}'.format(r2_score(y_test, pred))\n",
    "\n"
   ]
  },
  {
   "cell_type": "markdown",
   "metadata": {},
   "source": [
    "Ridge/Lasso/ElasticNet with GridSearch and Standardization"
   ]
  },
  {
   "cell_type": "code",
   "execution_count": 113,
   "metadata": {
    "collapsed": true
   },
   "outputs": [],
   "source": [
    "from sklearn.preprocessing import StandardScaler\n",
    "from sklearn.linear_model import Lasso, Ridge, ElasticNet\n",
    "from sklearn.model_selection import GridSearchCV, KFold\n",
    "import numpy as np"
   ]
  },
  {
   "cell_type": "code",
   "execution_count": 110,
   "metadata": {
    "collapsed": false
   },
   "outputs": [],
   "source": [
    "ss = StandardScaler()\n",
    "Xs = ss.fit_transform(X)"
   ]
  },
  {
   "cell_type": "code",
   "execution_count": 114,
   "metadata": {
    "collapsed": false
   },
   "outputs": [],
   "source": [
    "kf = KFold(n_splits=10, shuffle=True, random_state=101)\n",
    "ridge = Ridge()\n",
    "r_params = {\n",
    "    'alpha': np.logspace(-1, 5, 10),\n",
    "    'solver':  ['auto', 'sag'],\n",
    "    'fit_intercept' : [True,False]\n",
    "}"
   ]
  },
  {
   "cell_type": "code",
   "execution_count": 115,
   "metadata": {
    "collapsed": true
   },
   "outputs": [],
   "source": [
    "gs = GridSearchCV(ridge, cv=kf, param_grid=r_params, scoring='r2')"
   ]
  },
  {
   "cell_type": "code",
   "execution_count": 116,
   "metadata": {
    "collapsed": false
   },
   "outputs": [
    {
     "name": "stdout",
     "output_type": "stream",
     "text": [
      "0.577488129116\n",
      "{'alpha': 46.415888336127772, 'solver': 'auto', 'fit_intercept': True}\n"
     ]
    }
   ],
   "source": [
    "gs.fit(Xs,y)\n",
    "print gs.best_score_\n",
    "print gs.best_params_"
   ]
  },
  {
   "cell_type": "code",
   "execution_count": 118,
   "metadata": {
    "collapsed": true
   },
   "outputs": [],
   "source": [
    "lasso = Lasso()\n",
    "l_params = l_params = {\n",
    "    'alpha': np.linspace(0,5,20),\n",
    "    'fit_intercept' : [True,False]\n",
    "}"
   ]
  },
  {
   "cell_type": "code",
   "execution_count": 119,
   "metadata": {
    "collapsed": false
   },
   "outputs": [
    {
     "name": "stderr",
     "output_type": "stream",
     "text": [
      "C:\\Users\\p0key\\Anaconda2\\lib\\site-packages\\sklearn\\model_selection\\_validation.py:238: UserWarning: With alpha=0, this algorithm does not converge well. You are advised to use the LinearRegression estimator\n",
      "  estimator.fit(X_train, y_train, **fit_params)\n",
      "C:\\Users\\p0key\\Anaconda2\\lib\\site-packages\\sklearn\\linear_model\\coordinate_descent.py:470: UserWarning: Coordinate descent with alpha=0 may lead to unexpected results and is discouraged.\n",
      "  positive)\n",
      "C:\\Users\\p0key\\Anaconda2\\lib\\site-packages\\sklearn\\linear_model\\coordinate_descent.py:484: ConvergenceWarning: Objective did not converge. You might want to increase the number of iterations. Fitting data with very small alpha may cause precision problems.\n",
      "  ConvergenceWarning)\n"
     ]
    },
    {
     "name": "stdout",
     "output_type": "stream",
     "text": [
      "0.576004298062\n",
      "{'alpha': 5.0, 'fit_intercept': True}\n"
     ]
    }
   ],
   "source": [
    "gs = GridSearchCV(lasso, cv=kf, param_grid=l_params, scoring='r2')\n",
    "gs.fit(Xs,y)\n",
    "print gs.best_score_\n",
    "print gs.best_params_"
   ]
  },
  {
   "cell_type": "code",
   "execution_count": 121,
   "metadata": {
    "collapsed": true
   },
   "outputs": [],
   "source": [
    "enet = ElasticNet()\n",
    "en_params = {\n",
    "    'alpha' : np.linspace(0,5,20),\n",
    "    'l1_ratio' : np.linspace(0.01,1.0,25)\n",
    "}"
   ]
  },
  {
   "cell_type": "code",
   "execution_count": 122,
   "metadata": {
    "collapsed": false
   },
   "outputs": [
    {
     "name": "stdout",
     "output_type": "stream",
     "text": [
      "0.577623359087\n",
      "{'alpha': 1.3157894736842104, 'l1_ratio': 0.9587500000000001}\n"
     ]
    }
   ],
   "source": [
    "gs = GridSearchCV(enet, cv=kf, param_grid=en_params, scoring='r2')\n",
    "gs.fit(Xs,y)\n",
    "print gs.best_score_\n",
    "print gs.best_params_"
   ]
  },
  {
   "cell_type": "code",
   "execution_count": 124,
   "metadata": {
    "collapsed": true
   },
   "outputs": [],
   "source": [
    "from sklearn.kernel_ridge import KernelRidge"
   ]
  },
  {
   "cell_type": "code",
   "execution_count": 125,
   "metadata": {
    "collapsed": true
   },
   "outputs": [],
   "source": [
    "kr = KernelRidge()\n",
    "kr_params = {\n",
    "    'alpha': np.logspace(-1, 5, 10)\n",
    "}"
   ]
  },
  {
   "cell_type": "code",
   "execution_count": 126,
   "metadata": {
    "collapsed": false
   },
   "outputs": [
    {
     "name": "stdout",
     "output_type": "stream",
     "text": [
      "-0.924087290078\n",
      "{'alpha': 215.44346900318823}\n"
     ]
    }
   ],
   "source": [
    "gs = GridSearchCV(kr, cv=kf, param_grid=kr_params, scoring='r2')\n",
    "gs.fit(Xs,y)\n",
    "print gs.best_score_\n",
    "print gs.best_params_"
   ]
  },
  {
   "cell_type": "code",
   "execution_count": 129,
   "metadata": {
    "collapsed": true
   },
   "outputs": [],
   "source": [
    "from sklearn.ensemble import GradientBoostingRegressor, RandomForestRegressor"
   ]
  },
  {
   "cell_type": "code",
   "execution_count": 130,
   "metadata": {
    "collapsed": true
   },
   "outputs": [],
   "source": [
    "gb = GradientBoostingRegressor()\n",
    "rf = RandomForestRegressor()"
   ]
  },
  {
   "cell_type": "code",
   "execution_count": 134,
   "metadata": {
    "collapsed": false
   },
   "outputs": [],
   "source": [
    "rf_params = {\n",
    "    'n_estimators': range(10,30,5),\n",
    "    'max_features': ['auto', 'sqrt', 'log2', None]\n",
    "}"
   ]
  },
  {
   "cell_type": "code",
   "execution_count": 135,
   "metadata": {
    "collapsed": false
   },
   "outputs": [
    {
     "name": "stdout",
     "output_type": "stream",
     "text": [
      "0.568585964984\n",
      "{'max_features': 'auto', 'n_estimators': 20}\n"
     ]
    }
   ],
   "source": [
    "gs = GridSearchCV(rf, cv=kf, param_grid=rf_params, scoring='r2')\n",
    "gs.fit(Xs,y)\n",
    "print gs.best_score_\n",
    "print gs.best_params_"
   ]
  },
  {
   "cell_type": "code",
   "execution_count": 142,
   "metadata": {
    "collapsed": true
   },
   "outputs": [],
   "source": [
    "gb_params = {\n",
    "    'n_estimators': [100],\n",
    "    'loss': ['ls'],\n",
    "    'max_depth': range(1,11),\n",
    "    'min_samples_leaf': [1,3,5],\n",
    "    'max_features' : ['sqrt', 'auto']}"
   ]
  },
  {
   "cell_type": "code",
   "execution_count": 143,
   "metadata": {
    "collapsed": false
   },
   "outputs": [
    {
     "name": "stdout",
     "output_type": "stream",
     "text": [
      "0.622937639555\n",
      "{'max_features': 'sqrt', 'loss': 'ls', 'n_estimators': 100, 'max_depth': 9, 'min_samples_leaf': 3}\n"
     ]
    }
   ],
   "source": [
    "gs = GridSearchCV(gb, cv=kf, param_grid=gb_params, scoring='r2')\n",
    "gs.fit(Xs,y)\n",
    "print gs.best_score_\n",
    "print gs.best_params_"
   ]
  },
  {
   "cell_type": "code",
   "execution_count": null,
   "metadata": {
    "collapsed": true
   },
   "outputs": [],
   "source": []
  }
 ],
 "metadata": {
  "kernelspec": {
   "display_name": "Python 2",
   "language": "python",
   "name": "python2"
  },
  "language_info": {
   "codemirror_mode": {
    "name": "ipython",
    "version": 2
   },
   "file_extension": ".py",
   "mimetype": "text/x-python",
   "name": "python",
   "nbconvert_exporter": "python",
   "pygments_lexer": "ipython2",
   "version": "2.7.13"
  }
 },
 "nbformat": 4,
 "nbformat_minor": 2
}
