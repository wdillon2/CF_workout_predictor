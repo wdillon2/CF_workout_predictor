{
 "cells": [
  {
   "cell_type": "code",
   "execution_count": 1,
   "metadata": {
    "collapsed": false
   },
   "outputs": [
    {
     "name": "stderr",
     "output_type": "stream",
     "text": [
      "C:\\Users\\p0key\\Anaconda2\\lib\\site-packages\\sklearn\\cross_validation.py:44: DeprecationWarning: This module was deprecated in version 0.18 in favor of the model_selection module into which all the refactored classes and functions are moved. Also note that the interface of the new CV iterators are different from that of this module. This module will be removed in 0.20.\n",
      "  \"This module will be removed in 0.20.\", DeprecationWarning)\n"
     ]
    }
   ],
   "source": [
    "import pandas as pd\n",
    "import seaborn as sns\n",
    "import matplotlib.pyplot as plt\n",
    "import re\n",
    "import numpy as np\n",
    "from sklearn.linear_model import LinearRegression, Lasso, Ridge, ElasticNet\n",
    "from sklearn.model_selection import train_test_split, cross_val_score, GridSearchCV, KFold\n",
    "from sklearn.preprocessing import StandardScaler, FunctionTransformer\n",
    "from sklearn.feature_extraction.text import CountVectorizer\n",
    "from sklearn.pipeline import Pipeline, FeatureUnion\n",
    "from sklearn.ensemble import GradientBoostingRegressor, RandomForestRegressor\n",
    "from sklearn.tree import DecisionTreeRegressor\n",
    "from sklearn.feature_extraction.text import TfidfVectorizer\n",
    "from sklearn.metrics import pairwise_distances\n",
    "import xgboost\n",
    "%matplotlib inline\n",
    "pd.set_option('display.max_colwidth',999)"
   ]
  },
  {
   "cell_type": "markdown",
   "metadata": {},
   "source": [
    "### Make movement dictionary to use in vectorizor and a relationship dictionary to relate movement with movement class"
   ]
  },
  {
   "cell_type": "code",
   "execution_count": 2,
   "metadata": {
    "collapsed": true
   },
   "outputs": [],
   "source": [
    "def movements_data(csv_file):\n",
    "    movements = pd.read_csv(csv_file, index_col = 'Unnamed: 0')\n",
    "    # add movements that might have mulitple formats\n",
    "    add_moves = [{'movement':'double-under','frequency':153,'move_class':'Monostructural','Equipment':'jump rope'},{'movement':'squat','frequency':63,'move_class':'Gymnastics','Equipment':'body'}]\n",
    "    am = pd.DataFrame(add_moves)\n",
    "    return pd.concat([movements,am], ignore_index=True)"
   ]
  },
  {
   "cell_type": "code",
   "execution_count": 3,
   "metadata": {
    "collapsed": false
   },
   "outputs": [],
   "source": [
    "def make_dicts(use): #fill in Dictionary needed 'CV', 'mgw', 'equip', or 'other'\n",
    "    new_move = movements_data('movements.csv')\n",
    "    \n",
    "    if use == 'CV':\n",
    "        move_dict = new_move.movement.to_dict()\n",
    "        return dict((v,k) for k,v in move_dict.iteritems())\n",
    "    \n",
    "    if use == 'mgw' or use == 'equip':\n",
    "        new_move_dict = new_move[['movement','move_class','Equipment']].to_dict(orient='records')\n",
    "        relate_dict = {}\n",
    "        equip_dict = {}\n",
    "        for row in new_move_dict:\n",
    "            relate_dict[row['movement']] = row['move_class']\n",
    "            equip_dict[row['movement']] = row['Equipment']\n",
    "        if use == 'equip':\n",
    "            return equip_dict\n",
    "        else:\n",
    "            return relate_dict\n",
    "    \n",
    "    if use == 'other':\n",
    "        eq_dict = new_move.Equipment.to_dict()\n",
    "        other_dict = dict((v,k) for k,v in eq_dict.iteritems())\n",
    "        bar = [k for k in other_dict.iterkeys()]\n",
    "        for i,k in enumerate(bar):\n",
    "            other_dict[k]=i\n",
    "        return other_dict"
   ]
  },
  {
   "cell_type": "code",
   "execution_count": null,
   "metadata": {
    "collapsed": false
   },
   "outputs": [],
   "source": []
  },
  {
   "cell_type": "markdown",
   "metadata": {},
   "source": [
    "### Read in initial data from Beyond the Whiteboard and locate the rows that represent workouts for time or for reps"
   ]
  },
  {
   "cell_type": "code",
   "execution_count": 4,
   "metadata": {
    "collapsed": true
   },
   "outputs": [],
   "source": [
    "#takes in data.csv from btwb and converts to the dataframe to use for the model\n",
    "def model_df(data_csv):\n",
    "    df = pd.read_csv(data_csv)\n",
    "    df1 = df.loc[(df['Work performed'] > 0) & (df['Work time'] > 0) & (df['Work time'] < 3600000),:].copy()\n",
    "    df1.drop(list(df1.loc[df1['Description'].str.contains('Every|Tabata'),:].index), inplace=True)\n",
    "    df2 = df1.iloc[:].copy()\n",
    "    return df2.reset_index(drop = True)"
   ]
  },
  {
   "cell_type": "markdown",
   "metadata": {},
   "source": [
    "### Create functions to feed into Feature Union and Pipeline"
   ]
  },
  {
   "cell_type": "code",
   "execution_count": 5,
   "metadata": {
    "collapsed": true
   },
   "outputs": [],
   "source": [
    "def base_features_wt(df):\n",
    "    return df[['Work time']]\n",
    "\n",
    "\n",
    "base_features_wt_tf = FunctionTransformer(base_features_wt, validate=False)"
   ]
  },
  {
   "cell_type": "code",
   "execution_count": 6,
   "metadata": {
    "collapsed": true
   },
   "outputs": [],
   "source": [
    "def base_features_wp(df):\n",
    "    return df[['Work performed']]\n",
    "\n",
    "base_features_wp_tf = FunctionTransformer(base_features_wp, validate=False)"
   ]
  },
  {
   "cell_type": "code",
   "execution_count": 7,
   "metadata": {
    "collapsed": false
   },
   "outputs": [],
   "source": [
    "def get_movements(df):\n",
    "    move_in_work = []\n",
    "    new_move = movements_data('movements.csv')\n",
    "    for w in [x for x in df['Description']]:\n",
    "        moves = []\n",
    "        row = {}\n",
    "        for m in new_move.movement:\n",
    "            if m in w.lower():\n",
    "                moves.append(m)\n",
    "        row['move'] = ', '.join(moves)\n",
    "        move_in_work.append(row)\n",
    "    return pd.DataFrame(move_in_work)['move']\n",
    "\n",
    "get_movements_tf = FunctionTransformer(get_movements, validate=False)\n",
    "        "
   ]
  },
  {
   "cell_type": "code",
   "execution_count": 8,
   "metadata": {
    "collapsed": true
   },
   "outputs": [],
   "source": [
    "def equipment_used(cell):\n",
    "    equipment_used = []\n",
    "    equip_list = cell.split(', ')\n",
    "    equip_dict = make_dicts('equip')\n",
    "    for x in equip_list:\n",
    "        if x in equip_dict:\n",
    "            equipment_used.append(equip_dict[x])\n",
    "    return ', '.join(sorted(set(equipment_used))) \n"
   ]
  },
  {
   "cell_type": "code",
   "execution_count": 9,
   "metadata": {
    "collapsed": false
   },
   "outputs": [],
   "source": [
    "def get_equip(df):\n",
    "    return pd.DataFrame(get_movements(df).apply(equipment_used))['move']\n",
    "    \n",
    "get_equip_tf = FunctionTransformer(get_equip, validate=False)"
   ]
  },
  {
   "cell_type": "code",
   "execution_count": 10,
   "metadata": {
    "collapsed": true
   },
   "outputs": [],
   "source": [
    "def mgw_breakdown(cell):\n",
    "    mgw = []\n",
    "    move_list = cell.split(', ')\n",
    "    relate_dict = make_dicts('mgw')\n",
    "    for x in move_list:\n",
    "        if x in relate_dict:\n",
    "            mgw.append(relate_dict[x][0])\n",
    "    return ''.join(sorted(set(mgw)))"
   ]
  },
  {
   "cell_type": "code",
   "execution_count": 11,
   "metadata": {
    "collapsed": true
   },
   "outputs": [],
   "source": [
    "def get_move_class(df):\n",
    "    breakdown = pd.DataFrame(get_movements(df).apply(mgw_breakdown)) \n",
    "    for let in ['G','M','W']:\n",
    "        breakdown[let] = breakdown['move'].apply(lambda x: 1 if re.search(let,x) else 0)\n",
    "    return breakdown[['G','M','W']]\n",
    "\n",
    "get_move_class_tf = FunctionTransformer(get_move_class, validate=False)"
   ]
  },
  {
   "cell_type": "code",
   "execution_count": 12,
   "metadata": {
    "collapsed": true
   },
   "outputs": [],
   "source": [
    "def time_or_reps(df):\n",
    "    time_or_reps = pd.DataFrame(df['Formatted Result'].apply(lambda x: 'Time' if re.search(r'(min|sec)', x) else 'Reps'))\n",
    "    return pd.get_dummies(time_or_reps, prefix='For')\n",
    "\n",
    "time_or_reps_tf = FunctionTransformer(time_or_reps, validate=False)"
   ]
  },
  {
   "cell_type": "code",
   "execution_count": 13,
   "metadata": {
    "collapsed": true
   },
   "outputs": [],
   "source": [
    "def is_prescribed(df):\n",
    "    return df['Prescribed'].apply(int).to_frame()\n",
    "\n",
    "is_prescribed_tf = FunctionTransformer(is_prescribed, validate=False)    "
   ]
  },
  {
   "cell_type": "code",
   "execution_count": 14,
   "metadata": {
    "collapsed": true
   },
   "outputs": [],
   "source": [
    "def get_year(df):\n",
    "    years = pd.Categorical(pd.to_datetime(df['Date']).dt.year, categories = range(2011,2018))\n",
    "    return pd.get_dummies(years, columns=['Date'], prefix='Year')\n",
    "\n",
    "get_year_tf = FunctionTransformer(get_year, validate=False)"
   ]
  },
  {
   "cell_type": "code",
   "execution_count": 15,
   "metadata": {
    "collapsed": false
   },
   "outputs": [],
   "source": [
    "def get_month(df):\n",
    "    months = pd.DataFrame(pd.to_datetime(df['Date']).dt.month)\n",
    "    return pd.get_dummies(months, columns=['Date'], prefix='Month')\n",
    "\n",
    "get_month_tf = FunctionTransformer(get_month, validate=False)"
   ]
  },
  {
   "cell_type": "code",
   "execution_count": 68,
   "metadata": {
    "collapsed": false
   },
   "outputs": [],
   "source": [
    "def get_prediction(discription,wt,wp):\n",
    "    #disription is workout discription, wt = worktime given for AMRAPs, wp = work performed for RFT\n",
    "    df1 = model_df('data.csv')\n",
    "    test = [{'Work time': wt, 'Description': discription, 'Work performed': wp}]\n",
    "    df1 = df1.append(test, ignore_index=True)\n",
    "    vect = TfidfVectorizer()\n",
    "\n",
    "    tfid_matrix = vect.fit_transform(df1['Description'])\n",
    "    des_distance = pairwise_distances(tfid_matrix, metric='cosine')\n",
    "    new_df = pd.DataFrame(des_distance, index=df1.index.values, columns=df1['Description'].values)\n",
    "    cos_sim = new_df[discription][new_df[discription]<.75]\n",
    "    if len(cos_sim.shape) > 1  and cos_sim.shape[1] > 3:\n",
    "        print 'looking at similars'\n",
    "        s = new_df[discription].mean(axis=1)\n",
    "        cos_sim = s[s<0.20]\n",
    "#     #if cos_sim.min < 0.25:\n",
    "        #cos_sim = cos_sim[cos_sim < 0.25]\n",
    "\n",
    "    df_test=df1.iloc[list(cos_sim[:-1].index),:].copy()\n",
    "#     print plt.scatter(df1['Work time'],df1['Work performed'])\n",
    "#     return plt.scatter(df_test['Work time'], df_test['Work performed'])\n",
    "\n",
    "    equip_pipeline = Pipeline([\n",
    "        ('get_equip', get_equip_tf),\n",
    "        ('eq_vect', CountVectorizer(vocabulary=make_dicts('eq'))),\n",
    "        ('eq_nonsparse',FunctionTransformer(lambda X: X.toarray(), validate=False)) \n",
    "    ])\n",
    "    vector_pipeline = Pipeline([\n",
    "        ('get_movements', get_movements_tf),\n",
    "        ('vect', CountVectorizer(vocabulary=make_dicts('CV'))),\n",
    "        ('nonsparse',FunctionTransformer(lambda X: X.toarray(), validate=False)) \n",
    "    ])\n",
    "    if wt:\n",
    "        features_wt = FeatureUnion([\n",
    "            #('get_month', get_month_tf),\n",
    "            #('get_year', get_year_tf),\n",
    "            ('equip_pipeline', equip_pipeline),\n",
    "            #('is_prescribed', is_prescribed_tf),\n",
    "            #('time_or_reps', time_or_reps_tf),\n",
    "            ('get_move_class', get_move_class_tf),\n",
    "            ('vector_pipeline', vector_pipeline),\n",
    "            ('base_features_wt', base_features_wt_tf)\n",
    "        ])\n",
    "        pipe_wt = Pipeline([\n",
    "            ('features_wt', features_wt),\n",
    "            #('ss', StandardScaler()),\n",
    "            #('lr', LinearRegression(fit_intercept=False, normalize=False))\n",
    "            #('rf', RandomForestRegressor())\n",
    "            ('gb', GradientBoostingRegressor(n_estimators=300,random_state=2008))\n",
    "            #('dt', DecisionTreeRegressor())\n",
    "        ])\n",
    "        pipe_wt.fit(df_test,df_test['Work performed'])\n",
    "\n",
    "        return pipe_wt.predict(pd.DataFrame(test))[0]\n",
    "    if wp:\n",
    "        features_wp = FeatureUnion([\n",
    "            #('get_month', get_month_tf),\n",
    "            #('get_year', get_year_tf),\n",
    "            ('equip_pipeline', equip_pipeline),\n",
    "            #('is_prescribed', is_prescribed_tf),\n",
    "            #('time_or_reps', time_or_reps_tf),\n",
    "            ('get_move_class', get_move_class_tf),\n",
    "            ('vector_pipeline', vector_pipeline),\n",
    "            ('base_features_wp', base_features_wp_tf)\n",
    "        ])\n",
    "        pipe_wp = Pipeline([\n",
    "            ('features_wp', features_wp),\n",
    "            #('ss', StandardScaler()),\n",
    "            #('lr', LinearRegression(fit_intercept=False, normalize=True))\n",
    "            #('rf', RandomForestRegressor(random_state=2008))\n",
    "            ('gb', GradientBoostingRegressor(random_state=2008, n_estimators=300))\n",
    "            #('dt', DecisionTreeRegressor())\n",
    "        ])\n",
    "        pipe_wp.fit(df_test,df_test['Work time'])\n",
    "        return pipe_wp.predict(pd.DataFrame(test))[0]\n",
    "    \n",
    "    #pipe_wp.predict(df1.iloc[df1.shape[0]-1:df1.shape[0],:])[0]\n"
   ]
  },
  {
   "cell_type": "code",
   "execution_count": 17,
   "metadata": {
    "collapsed": false
   },
   "outputs": [],
   "source": [
    "def get_formatted_pred(discription, wt, wp, round_reps, round_work):\n",
    "    raw_result = get_prediction(discription, wt, wp)\n",
    "    print raw_result\n",
    "    print discription\n",
    "    #return raw_result\n",
    "    if wt:\n",
    "        tot_rounds = raw_result / round_work\n",
    "        splits = str(tot_rounds).split('.')\n",
    "        formatted_result = '{} rounds + {} reps'.format(splits[0],round(float('.'+splits[1])*round_reps,0))\n",
    "        return formatted_result\n",
    "    if wp:\n",
    "        seconds = (raw_result / 1000)%60\n",
    "        minutes = ((raw_result / 1000) - seconds)/60\n",
    "        return '{} min, {} sec'.format(minutes,round(seconds,2))"
   ]
  },
  {
   "cell_type": "code",
   "execution_count": 40,
   "metadata": {
    "collapsed": false
   },
   "outputs": [
    {
     "name": "stdout",
     "output_type": "stream",
     "text": [
      "932578.559038\n",
      "21-15-9 reps of:\n",
      "Squat Clean & Jerk, 75 lbs\n",
      "Box Jump Over, 24 in\n"
     ]
    },
    {
     "data": {
      "text/plain": [
       "'15.0 min, 32.58 sec'"
      ]
     },
     "execution_count": 40,
     "metadata": {},
     "output_type": "execute_result"
    }
   ],
   "source": [
    "get_formatted_pred(model_df('data_2.csv').iloc[0]['Description'],0,model_df('data_2.csv').iloc[0]['Work performed'], None, None)"
   ]
  },
  {
   "cell_type": "code",
   "execution_count": 76,
   "metadata": {
    "collapsed": false
   },
   "outputs": [
    {
     "name": "stdout",
     "output_type": "stream",
     "text": [
      "80437.8438073\n",
      "20min AMRAP of:\n",
      "5 Pull-ups\n",
      "10 Push-ups\n",
      "15 Air Squats\n"
     ]
    },
    {
     "data": {
      "text/plain": [
       "'10 rounds + 2.0 reps'"
      ]
     },
     "execution_count": 76,
     "metadata": {},
     "output_type": "execute_result"
    }
   ],
   "source": [
    "get_formatted_pred('20min AMRAP of:\\n5 Pull-ups\\n10 Push-ups\\n15 Air Squats',1200000,None,30,8000)"
   ]
  },
  {
   "cell_type": "code",
   "execution_count": 63,
   "metadata": {
    "collapsed": false
   },
   "outputs": [
    {
     "name": "stdout",
     "output_type": "stream",
     "text": [
      "1296558.13716\n",
      "4 rounds of:\n",
      "20 Dumbbell Snatches, 35 lbs\n",
      "10 Push-ups\n",
      "Run, 200 m\n"
     ]
    },
    {
     "data": {
      "text/plain": [
       "'21.0 min, 36.56 sec'"
      ]
     },
     "execution_count": 63,
     "metadata": {},
     "output_type": "execute_result"
    }
   ],
   "source": [
    "get_formatted_pred('''4 rounds of:\n",
    "20 Dumbbell Snatches, 35 lbs\n",
    "10 Push-ups\n",
    "Run, 200 m''',0,74482,None,None)"
   ]
  },
  {
   "cell_type": "code",
   "execution_count": 69,
   "metadata": {
    "collapsed": false
   },
   "outputs": [
    {
     "name": "stdout",
     "output_type": "stream",
     "text": [
      "307022.495016\n",
      "21-15-9 reps of:\n",
      "Thruster, 65 lbs \n",
      "Pull-up\n"
     ]
    },
    {
     "data": {
      "text/plain": [
       "'5.0 min, 7.02 sec'"
      ]
     },
     "execution_count": 69,
     "metadata": {},
     "output_type": "execute_result"
    }
   ],
   "source": [
    "get_formatted_pred('21-15-9 reps of:\\nThruster, 65 lbs \\nPull-up',0,32214,None,None)"
   ]
  },
  {
   "cell_type": "code",
   "execution_count": 70,
   "metadata": {
    "collapsed": false
   },
   "outputs": [
    {
     "name": "stdout",
     "output_type": "stream",
     "text": [
      "578428.341154\n",
      "5 rounds of:\n",
      "5 Pull-ups\n",
      "10 Banded Ring Dips\n",
      "15 Wall Balls, 14 lb\n"
     ]
    },
    {
     "data": {
      "text/plain": [
       "'9.0 min, 38.43 sec'"
      ]
     },
     "execution_count": 70,
     "metadata": {},
     "output_type": "execute_result"
    }
   ],
   "source": [
    "get_formatted_pred('''5 rounds of:\n",
    "5 Pull-ups\n",
    "10 Banded Ring Dips\n",
    "15 Wall Balls, 14 lb''',0,28930,None, None)"
   ]
  },
  {
   "cell_type": "code",
   "execution_count": 71,
   "metadata": {
    "collapsed": false
   },
   "outputs": [
    {
     "name": "stdout",
     "output_type": "stream",
     "text": [
      "842132.069007\n",
      "21-18-15-12-9-6-3 reps of:\n",
      "Sumo Deadlift High-pull, 55 lbs\n",
      "Overhead Squat, 55 lbs\n"
     ]
    },
    {
     "data": {
      "text/plain": [
       "'14.0 min, 2.13 sec'"
      ]
     },
     "execution_count": 71,
     "metadata": {},
     "output_type": "execute_result"
    }
   ],
   "source": [
    "get_formatted_pred('''21-18-15-12-9-6-3 reps of:\n",
    "Sumo Deadlift High-pull, 55 lbs\n",
    "Overhead Squat, 55 lbs''',0,53747,None, None)"
   ]
  },
  {
   "cell_type": "code",
   "execution_count": 72,
   "metadata": {
    "collapsed": false
   },
   "outputs": [
    {
     "name": "stdout",
     "output_type": "stream",
     "text": [
      "915511.016481\n",
      "5 rounds of:\n",
      "5 Push Jerks, 95 lbs\n",
      "10 Deadlifts, 95 lbs\n",
      "15 Burpee Over Bars\n"
     ]
    },
    {
     "data": {
      "text/plain": [
       "'15.0 min, 15.51 sec'"
      ]
     },
     "execution_count": 72,
     "metadata": {},
     "output_type": "execute_result"
    }
   ],
   "source": [
    "get_formatted_pred('''5 rounds of:\n",
    "5 Push Jerks, 95 lbs\n",
    "10 Deadlifts, 95 lbs\n",
    "15 Burpee Over Bars''',0,59605,None, None)"
   ]
  },
  {
   "cell_type": "code",
   "execution_count": 73,
   "metadata": {
    "collapsed": false
   },
   "outputs": [
    {
     "name": "stdout",
     "output_type": "stream",
     "text": [
      "1268698.93737\n",
      "5 rounds of:\n",
      "5 Pull-up (blue band)s\n",
      "5 Ring Dip (Blue Band)s\n",
      "21 Burpees\n"
     ]
    },
    {
     "data": {
      "text/plain": [
       "'21.0 min, 8.7 sec'"
      ]
     },
     "execution_count": 73,
     "metadata": {},
     "output_type": "execute_result"
    }
   ],
   "source": [
    "get_formatted_pred('''5 rounds of:\n",
    "5 Pull-up (blue band)s\n",
    "5 Ring Dip (Blue Band)s\n",
    "21 Burpees''',0,62112,None, None)"
   ]
  },
  {
   "cell_type": "code",
   "execution_count": 74,
   "metadata": {
    "collapsed": false
   },
   "outputs": [
    {
     "name": "stdout",
     "output_type": "stream",
     "text": [
      "889015.104429\n",
      "21-15-9 reps of:\n",
      "Squat Clean & Jerk, 75 lbs\n",
      "Box Jump Over, 24 in\n"
     ]
    },
    {
     "data": {
      "text/plain": [
       "'14.0 min, 49.02 sec'"
      ]
     },
     "execution_count": 74,
     "metadata": {},
     "output_type": "execute_result"
    }
   ],
   "source": [
    "get_formatted_pred('''21-15-9 reps of:\n",
    "Squat Clean & Jerk, 75 lbs\n",
    "Box Jump Over, 24 in''', 0, 48908, None, None)"
   ]
  },
  {
   "cell_type": "code",
   "execution_count": 75,
   "metadata": {
    "collapsed": false
   },
   "outputs": [
    {
     "name": "stdout",
     "output_type": "stream",
     "text": [
      "867657.803795\n",
      "10 rounds of:\n",
      "9 Thrusters, 65 lbs\n",
      "35 Double Unders\n"
     ]
    },
    {
     "data": {
      "text/plain": [
       "'14.0 min, 27.66 sec'"
      ]
     },
     "execution_count": 75,
     "metadata": {},
     "output_type": "execute_result"
    }
   ],
   "source": [
    "get_formatted_pred('''10 rounds of:\n",
    "9 Thrusters, 65 lbs\n",
    "35 Double Unders''', 0,66776,None,None )"
   ]
  },
  {
   "cell_type": "code",
   "execution_count": null,
   "metadata": {
    "collapsed": true
   },
   "outputs": [],
   "source": []
  },
  {
   "cell_type": "code",
   "execution_count": 736,
   "metadata": {
    "collapsed": false
   },
   "outputs": [],
   "source": [
    "def test_rows(d):\n",
    "    foo = model_df(d)\n",
    "    answ = []\n",
    "    for i in range(foo.shape[0]):\n",
    "        print i\n",
    "        test = foo.iloc[i]\n",
    "        df1 = foo.drop(foo.index[i]).copy()\n",
    "        df1 = df1.append(test, ignore_index=True)\n",
    "\n",
    "        discription = test['Description']\n",
    "        vect = TfidfVectorizer()\n",
    "        \n",
    "        tfid_matrix = vect.fit_transform(df1['Description'])\n",
    "        des_distance = pairwise_distances(tfid_matrix, metric='cosine')\n",
    "        new_df = pd.DataFrame(des_distance, index=df1.index.values, columns=df1['Description'].values)\n",
    "        cos_sim = new_df[discription][new_df[discription]<0.87]\n",
    "        if len(cos_sim.shape) > 1 and cos_sim.shape[1] > 3:\n",
    "            s = new_df[discription].mean(axis=1)\n",
    "            cos_sim = s[s<0.25]\n",
    "    #     #if cos_sim.min < 0.25:\n",
    "            #cos_sim = cos_sim[cos_sim < 0.25]\n",
    "        #print cos_sim.shape\n",
    "        df_test=df1.iloc[list(cos_sim[:-1].index),:].copy()\n",
    "        #print df_test['Description']\n",
    "\n",
    "        equip_pipeline = Pipeline([\n",
    "            ('get_equip', get_equip_tf),\n",
    "            ('eq_vect', CountVectorizer(vocabulary=make_dicts('eq'))),\n",
    "            ('eq_nonsparse',FunctionTransformer(lambda X: X.toarray(), validate=False)) \n",
    "        ])\n",
    "        vector_pipeline = Pipeline([\n",
    "            ('get_movements', get_movements_tf),\n",
    "            ('vect', CountVectorizer(vocabulary=make_dicts('CV'))),\n",
    "            ('nonsparse',FunctionTransformer(lambda X: X.toarray(), validate=False)) \n",
    "        ])\n",
    "        if not re.search(r'(min|sec)',test['Formatted Result']):\n",
    "            \n",
    "            features_wt = FeatureUnion([\n",
    "                #('get_month', get_month_tf),\n",
    "                #('get_year', get_year_tf),\n",
    "                ('equip_pipeline', equip_pipeline),\n",
    "                #('is_prescribed', is_prescribed_tf),\n",
    "                #('time_or_reps', time_or_reps_tf),\n",
    "                ('get_move_class', get_move_class_tf),\n",
    "                ('vector_pipeline', vector_pipeline),\n",
    "                ('base_features_wt', base_features_wt_tf)\n",
    "            ])\n",
    "            pipe_wt = Pipeline([\n",
    "                ('features_wt', features_wt),\n",
    "                #('ss', StandardScaler()),\n",
    "                #('lr', LinearRegression(fit_intercept=False, normalize=True))\n",
    "                #('rf', RandomForestRegressor())\n",
    "                ('gb', GradientBoostingRegressor())\n",
    "                #('dt', DecisionTreeRegressor())\n",
    "            ])\n",
    "            pipe_wt.fit(df_test,df_test['Work performed'])\n",
    "\n",
    "            answ.append(pipe_wt.predict(df1.iloc[df1.shape[0]-1:df1.shape[0],:])[0])\n",
    "        if re.search(r'(min|sec)',test['Formatted Result']):\n",
    "            features_wp = FeatureUnion([\n",
    "                #('get_month', get_month_tf),\n",
    "                #('get_year', get_year_tf),\n",
    "                ('equip_pipeline', equip_pipeline),\n",
    "                #('is_prescribed', is_prescribed_tf),\n",
    "                #('time_or_reps', time_or_reps_tf),\n",
    "                ('get_move_class', get_move_class_tf),\n",
    "                ('vector_pipeline', vector_pipeline),\n",
    "                ('base_features_wp', base_features_wp_tf)\n",
    "            ])\n",
    "            pipe_wp = Pipeline([\n",
    "                ('features_wp', features_wp),\n",
    "                #('ss', StandardScaler()),\n",
    "                #('lr', LinearRegression(fit_intercept=False, normalize=True))\n",
    "                #('rf', RandomForestRegressor())\n",
    "                ('gb', GradientBoostingRegressor())\n",
    "                #('dt', DecisionTreeRegressor())\n",
    "            ])\n",
    "            pipe_wp.fit(df_test,df_test['Work time'])\n",
    "            answ.append(pipe_wp.predict(df1.iloc[df1.shape[0]-1:df1.shape[0],:])[0])\n",
    "    return answ"
   ]
  },
  {
   "cell_type": "code",
   "execution_count": null,
   "metadata": {
    "collapsed": false
   },
   "outputs": [],
   "source": []
  },
  {
   "cell_type": "code",
   "execution_count": 396,
   "metadata": {
    "collapsed": true
   },
   "outputs": [],
   "source": [
    "from sklearn.metrics import r2_score"
   ]
  },
  {
   "cell_type": "code",
   "execution_count": null,
   "metadata": {
    "collapsed": false
   },
   "outputs": [],
   "source": []
  },
  {
   "cell_type": "code",
   "execution_count": 33,
   "metadata": {
    "collapsed": false
   },
   "outputs": [
    {
     "data": {
      "text/html": [
       "<div>\n",
       "<style>\n",
       "    .dataframe thead tr:only-child th {\n",
       "        text-align: right;\n",
       "    }\n",
       "\n",
       "    .dataframe thead th {\n",
       "        text-align: left;\n",
       "    }\n",
       "\n",
       "    .dataframe tbody tr th {\n",
       "        vertical-align: top;\n",
       "    }\n",
       "</style>\n",
       "<table border=\"1\" class=\"dataframe\">\n",
       "  <thead>\n",
       "    <tr style=\"text-align: right;\">\n",
       "      <th></th>\n",
       "      <th>Date</th>\n",
       "      <th>Workout</th>\n",
       "      <th>Result</th>\n",
       "      <th>Prescribed</th>\n",
       "      <th>Pukie</th>\n",
       "      <th>Work performed</th>\n",
       "      <th>Work time</th>\n",
       "      <th>Formatted Result</th>\n",
       "      <th>Notes</th>\n",
       "      <th>Description</th>\n",
       "      <th>For_Reps</th>\n",
       "      <th>For_Time</th>\n",
       "    </tr>\n",
       "  </thead>\n",
       "  <tbody>\n",
       "    <tr>\n",
       "      <th>0</th>\n",
       "      <td>2017-05-20</td>\n",
       "      <td>21-15-9: Squat Clean &amp; Jerks and Box Jump Overs</td>\n",
       "      <td>763000.000</td>\n",
       "      <td>True</td>\n",
       "      <td>False</td>\n",
       "      <td>48876</td>\n",
       "      <td>763000.0</td>\n",
       "      <td>12 mins 43 secs</td>\n",
       "      <td>NaN</td>\n",
       "      <td>21-15-9 reps of:\\nSquat Clean &amp; Jerk, 75 lbs\\nBox Jump Over, 24 in</td>\n",
       "      <td>0</td>\n",
       "      <td>1</td>\n",
       "    </tr>\n",
       "    <tr>\n",
       "      <th>1</th>\n",
       "      <td>2017-05-06</td>\n",
       "      <td>AMRAP 7 mins: Pull-ups and Box Jumps</td>\n",
       "      <td>3.350</td>\n",
       "      <td>True</td>\n",
       "      <td>False</td>\n",
       "      <td>19977</td>\n",
       "      <td>420000.0</td>\n",
       "      <td>3 rounds + 7 Pull-ups | 67 reps</td>\n",
       "      <td>NaN</td>\n",
       "      <td>7:00 AMRAP:\\n10 Pull-ups\\n10 Box Jumps, 20 in</td>\n",
       "      <td>1</td>\n",
       "      <td>0</td>\n",
       "    </tr>\n",
       "    <tr>\n",
       "      <th>2</th>\n",
       "      <td>2017-05-06</td>\n",
       "      <td>AMRAP 7 mins: Banded Ring Dips and Wall Balls</td>\n",
       "      <td>3.429</td>\n",
       "      <td>False</td>\n",
       "      <td>False</td>\n",
       "      <td>16418</td>\n",
       "      <td>420000.0</td>\n",
       "      <td>3 rounds + 6 Ring Push-ups | 57 reps</td>\n",
       "      <td>NaN</td>\n",
       "      <td>7:00 AMRAP:\\n7 Ring Push-ups\\n10 Wall Balls, 8 lbs</td>\n",
       "      <td>1</td>\n",
       "      <td>0</td>\n",
       "    </tr>\n",
       "    <tr>\n",
       "      <th>3</th>\n",
       "      <td>2017-05-06</td>\n",
       "      <td>AMRAP 12 mins: Back Squats, Russian Kettlebell Swings, Back Squats and Push-ups</td>\n",
       "      <td>3.125</td>\n",
       "      <td>False</td>\n",
       "      <td>False</td>\n",
       "      <td>29820</td>\n",
       "      <td>720000.0</td>\n",
       "      <td>3 rounds + 5 Back Squats | 155 reps</td>\n",
       "      <td>NaN</td>\n",
       "      <td>12:00 AMRAP:\\n10 Back Squats, 95 lbs\\n10 Russian Kettlebell Swings, 53 lbs\\n10 Back Squats, 95 lbs\\n20 Push-up (knees)s</td>\n",
       "      <td>1</td>\n",
       "      <td>0</td>\n",
       "    </tr>\n",
       "    <tr>\n",
       "      <th>4</th>\n",
       "      <td>2017-05-05</td>\n",
       "      <td>Clean &amp; Jerk : 30 Reps for Time</td>\n",
       "      <td>123000.000</td>\n",
       "      <td>True</td>\n",
       "      <td>False</td>\n",
       "      <td>19921</td>\n",
       "      <td>123000.0</td>\n",
       "      <td>2 mins 3 secs</td>\n",
       "      <td>NaN</td>\n",
       "      <td>30 Clean &amp; Jerks, 65 lbs</td>\n",
       "      <td>0</td>\n",
       "      <td>1</td>\n",
       "    </tr>\n",
       "    <tr>\n",
       "      <th>5</th>\n",
       "      <td>2017-05-02</td>\n",
       "      <td>Row : 250/500/750/1000/1000/750/500/250 m, rest 30 secs</td>\n",
       "      <td>1383000.000</td>\n",
       "      <td>True</td>\n",
       "      <td>False</td>\n",
       "      <td>135009</td>\n",
       "      <td>1383000.0</td>\n",
       "      <td>23 mins 3 secs</td>\n",
       "      <td>2:18.6 avg 500m pace avg 24spm</td>\n",
       "      <td>Intervals : rest 30 secs\\nRow, 250 m | 1:10\\nRow, 500 m | 2:21\\nRow, 750 m | 3:28\\nRow, 1000 m | 4:37\\nRow, 1000 m | 4:36\\nRow, 750 m | 3:27\\nRow, 500 m | 2:17\\nRow, 250 m | 1:07</td>\n",
       "      <td>0</td>\n",
       "      <td>1</td>\n",
       "    </tr>\n",
       "    <tr>\n",
       "      <th>6</th>\n",
       "      <td>2017-04-30</td>\n",
       "      <td>5 RFT: Push Jerks, Deadlifts and Burpee Over Bars</td>\n",
       "      <td>917000.000</td>\n",
       "      <td>True</td>\n",
       "      <td>False</td>\n",
       "      <td>59621</td>\n",
       "      <td>917000.0</td>\n",
       "      <td>15 mins 17 secs</td>\n",
       "      <td>NaN</td>\n",
       "      <td>5 rounds of:\\n5 Push Jerks, 95 lbs\\n10 Deadlifts, 95 lbs\\n15 Burpee Over Bars</td>\n",
       "      <td>0</td>\n",
       "      <td>1</td>\n",
       "    </tr>\n",
       "    <tr>\n",
       "      <th>7</th>\n",
       "      <td>2017-04-25</td>\n",
       "      <td>5 RFT: Pull-ups, Ring Dips and Burpees</td>\n",
       "      <td>960000.000</td>\n",
       "      <td>False</td>\n",
       "      <td>False</td>\n",
       "      <td>62120</td>\n",
       "      <td>960000.0</td>\n",
       "      <td>16 mins</td>\n",
       "      <td>Pull ups and dips with band, accidentally only did 5 of each</td>\n",
       "      <td>5 rounds of:\\n5 Pull-up (blue band)s\\n5 Ring Dip (Blue Band)s\\n21 Burpees</td>\n",
       "      <td>0</td>\n",
       "      <td>1</td>\n",
       "    </tr>\n",
       "    <tr>\n",
       "      <th>8</th>\n",
       "      <td>2017-04-23</td>\n",
       "      <td>AMRAP 13 mins: Back Rack Walking Lunges, Dumbbell Snatches, Back Rack Walking Lunges and Ring Rows</td>\n",
       "      <td>2.650</td>\n",
       "      <td>True</td>\n",
       "      <td>False</td>\n",
       "      <td>16444</td>\n",
       "      <td>780000.0</td>\n",
       "      <td>2 rounds + 25 yd + 14 Dumbbell Snatches + 15 yd</td>\n",
       "      <td>NaN</td>\n",
       "      <td>13:00 AMRAP:\\nBack Rack Walking Lunge, 65 lbs, 25 yd\\n14 Dumbbell Snatches, 20 lbs\\nBack Rack Walking Lunge, 65 lbs, 25 yd\\n5 Ring Rows</td>\n",
       "      <td>1</td>\n",
       "      <td>0</td>\n",
       "    </tr>\n",
       "    <tr>\n",
       "      <th>9</th>\n",
       "      <td>2017-04-22</td>\n",
       "      <td>AMRAP 20 mins: Rope Climb (from ground to standing)s, 400 m and Piked Handstand Push Up On Boxes</td>\n",
       "      <td>58.000</td>\n",
       "      <td>True</td>\n",
       "      <td>False</td>\n",
       "      <td>47953</td>\n",
       "      <td>1200000.0</td>\n",
       "      <td>58 reps | 15, 15, 13, and 15</td>\n",
       "      <td>NaN</td>\n",
       "      <td>20:00 AMRAP:\\n1 Rope Climb (from ground to standing)\\nRun, 400 m\\nmax rep Piked Handstand Push Up On Boxes</td>\n",
       "      <td>1</td>\n",
       "      <td>0</td>\n",
       "    </tr>\n",
       "    <tr>\n",
       "      <th>10</th>\n",
       "      <td>2017-04-22</td>\n",
       "      <td>AMRAP 12 mins: Strict Pull-up (band)s, Bent Over Barbell Rows and AbMat Sit-ups</td>\n",
       "      <td>6.000</td>\n",
       "      <td>True</td>\n",
       "      <td>False</td>\n",
       "      <td>16249</td>\n",
       "      <td>720000.0</td>\n",
       "      <td>6 rounds | 162 reps</td>\n",
       "      <td>Green band all PU unbroken</td>\n",
       "      <td>12:00 AMRAP:\\n5 Strict Pull-up (band)s\\n7 Bent Over Barbell Rows, 65 lbs\\n15 AbMat Sit-ups</td>\n",
       "      <td>1</td>\n",
       "      <td>0</td>\n",
       "    </tr>\n",
       "    <tr>\n",
       "      <th>11</th>\n",
       "      <td>2017-04-21</td>\n",
       "      <td>Air Squats : 10 Reps for Time</td>\n",
       "      <td>60000.000</td>\n",
       "      <td>True</td>\n",
       "      <td>False</td>\n",
       "      <td>5401</td>\n",
       "      <td>60000.0</td>\n",
       "      <td>1 min</td>\n",
       "      <td>NaN</td>\n",
       "      <td>10 Burpees</td>\n",
       "      <td>0</td>\n",
       "      <td>1</td>\n",
       "    </tr>\n",
       "    <tr>\n",
       "      <th>12</th>\n",
       "      <td>2017-04-19</td>\n",
       "      <td>5 RFT: Pull-ups, Banded Ring Dips and Wall Balls</td>\n",
       "      <td>738000.000</td>\n",
       "      <td>False</td>\n",
       "      <td>False</td>\n",
       "      <td>28919</td>\n",
       "      <td>738000.0</td>\n",
       "      <td>12 mins 18 secs</td>\n",
       "      <td>Pull ups and dips on assist machine @70 lbs</td>\n",
       "      <td>5 rounds of:\\n5 Pull-ups\\n10 Banded Ring Dips\\n15 Wall Balls, 14 lbs</td>\n",
       "      <td>0</td>\n",
       "      <td>1</td>\n",
       "    </tr>\n",
       "    <tr>\n",
       "      <th>13</th>\n",
       "      <td>2017-04-16</td>\n",
       "      <td>AMRAP 6 mins: Single Arm Thrusters, Double Kettlebell Overhead Carries and Kettlebell Swings</td>\n",
       "      <td>4.000</td>\n",
       "      <td>True</td>\n",
       "      <td>False</td>\n",
       "      <td>7436</td>\n",
       "      <td>360000.0</td>\n",
       "      <td>4 rounds</td>\n",
       "      <td>NaN</td>\n",
       "      <td>6:00 AMRAP:\\n10 Single Arm Thrusters | 20 lbs\\nDouble Kettlebell Overhead Carry, 50 ft | 20 lbs\\n10 Kettlebell Swings | 20 lbs</td>\n",
       "      <td>1</td>\n",
       "      <td>0</td>\n",
       "    </tr>\n",
       "    <tr>\n",
       "      <th>14</th>\n",
       "      <td>2017-04-16</td>\n",
       "      <td>21-18-15-12-9-6-3: Sumo Deadlift High-pulls and Overhead Squats</td>\n",
       "      <td>832000.000</td>\n",
       "      <td>True</td>\n",
       "      <td>False</td>\n",
       "      <td>53714</td>\n",
       "      <td>832000.0</td>\n",
       "      <td>13 mins 52 secs</td>\n",
       "      <td>NaN</td>\n",
       "      <td>21-18-15-12-9-6-3 reps of:\\nSumo Deadlift High-pull, 55 lbs\\nOverhead Squat, 55 lbs</td>\n",
       "      <td>0</td>\n",
       "      <td>1</td>\n",
       "    </tr>\n",
       "    <tr>\n",
       "      <th>15</th>\n",
       "      <td>2017-04-10</td>\n",
       "      <td>Diane</td>\n",
       "      <td>1130000.000</td>\n",
       "      <td>False</td>\n",
       "      <td>False</td>\n",
       "      <td>27352</td>\n",
       "      <td>1130000.0</td>\n",
       "      <td>18 mins 50 secs</td>\n",
       "      <td>DL 155, hspu done to two ab mats</td>\n",
       "      <td>21-15-9 reps of:\\nDeadlift, 155 lbs\\nHandstand Push Up</td>\n",
       "      <td>0</td>\n",
       "      <td>1</td>\n",
       "    </tr>\n",
       "    <tr>\n",
       "      <th>16</th>\n",
       "      <td>2017-04-06</td>\n",
       "      <td>4x RFT: 200 m, Wall Balls, and Burpees</td>\n",
       "      <td>1019000.000</td>\n",
       "      <td>True</td>\n",
       "      <td>False</td>\n",
       "      <td>90192</td>\n",
       "      <td>1019000.0</td>\n",
       "      <td>16 mins 59 secs | (4 mins 30 secs), (4 mins 7 secs), (4 mins 21 secs), and (4 mins 1 sec)</td>\n",
       "      <td>NaN</td>\n",
       "      <td>4 rounds, each round for time, of:\\nRun, 200 m\\n20 Wall Balls, 14 lbs\\n20 Burpees\\nResting 2 mins between each round.</td>\n",
       "      <td>0</td>\n",
       "      <td>1</td>\n",
       "    </tr>\n",
       "  </tbody>\n",
       "</table>\n",
       "</div>"
      ],
      "text/plain": [
       "          Date  \\\n",
       "0   2017-05-20   \n",
       "1   2017-05-06   \n",
       "2   2017-05-06   \n",
       "3   2017-05-06   \n",
       "4   2017-05-05   \n",
       "5   2017-05-02   \n",
       "6   2017-04-30   \n",
       "7   2017-04-25   \n",
       "8   2017-04-23   \n",
       "9   2017-04-22   \n",
       "10  2017-04-22   \n",
       "11  2017-04-21   \n",
       "12  2017-04-19   \n",
       "13  2017-04-16   \n",
       "14  2017-04-16   \n",
       "15  2017-04-10   \n",
       "16  2017-04-06   \n",
       "\n",
       "                                                                                               Workout  \\\n",
       "0                                                      21-15-9: Squat Clean & Jerks and Box Jump Overs   \n",
       "1                                                                 AMRAP 7 mins: Pull-ups and Box Jumps   \n",
       "2                                                        AMRAP 7 mins: Banded Ring Dips and Wall Balls   \n",
       "3                      AMRAP 12 mins: Back Squats, Russian Kettlebell Swings, Back Squats and Push-ups   \n",
       "4                                                                      Clean & Jerk : 30 Reps for Time   \n",
       "5                                              Row : 250/500/750/1000/1000/750/500/250 m, rest 30 secs   \n",
       "6                                                    5 RFT: Push Jerks, Deadlifts and Burpee Over Bars   \n",
       "7                                                               5 RFT: Pull-ups, Ring Dips and Burpees   \n",
       "8   AMRAP 13 mins: Back Rack Walking Lunges, Dumbbell Snatches, Back Rack Walking Lunges and Ring Rows   \n",
       "9     AMRAP 20 mins: Rope Climb (from ground to standing)s, 400 m and Piked Handstand Push Up On Boxes   \n",
       "10                     AMRAP 12 mins: Strict Pull-up (band)s, Bent Over Barbell Rows and AbMat Sit-ups   \n",
       "11                                                                       Air Squats : 10 Reps for Time   \n",
       "12                                                    5 RFT: Pull-ups, Banded Ring Dips and Wall Balls   \n",
       "13        AMRAP 6 mins: Single Arm Thrusters, Double Kettlebell Overhead Carries and Kettlebell Swings   \n",
       "14                                     21-18-15-12-9-6-3: Sumo Deadlift High-pulls and Overhead Squats   \n",
       "15                                                                                               Diane   \n",
       "16                                                              4x RFT: 200 m, Wall Balls, and Burpees   \n",
       "\n",
       "         Result  Prescribed  Pukie  Work performed  Work time  \\\n",
       "0    763000.000        True  False           48876   763000.0   \n",
       "1         3.350        True  False           19977   420000.0   \n",
       "2         3.429       False  False           16418   420000.0   \n",
       "3         3.125       False  False           29820   720000.0   \n",
       "4    123000.000        True  False           19921   123000.0   \n",
       "5   1383000.000        True  False          135009  1383000.0   \n",
       "6    917000.000        True  False           59621   917000.0   \n",
       "7    960000.000       False  False           62120   960000.0   \n",
       "8         2.650        True  False           16444   780000.0   \n",
       "9        58.000        True  False           47953  1200000.0   \n",
       "10        6.000        True  False           16249   720000.0   \n",
       "11    60000.000        True  False            5401    60000.0   \n",
       "12   738000.000       False  False           28919   738000.0   \n",
       "13        4.000        True  False            7436   360000.0   \n",
       "14   832000.000        True  False           53714   832000.0   \n",
       "15  1130000.000       False  False           27352  1130000.0   \n",
       "16  1019000.000        True  False           90192  1019000.0   \n",
       "\n",
       "                                                                             Formatted Result  \\\n",
       "0                                                                             12 mins 43 secs   \n",
       "1                                                             3 rounds + 7 Pull-ups | 67 reps   \n",
       "2                                                        3 rounds + 6 Ring Push-ups | 57 reps   \n",
       "3                                                         3 rounds + 5 Back Squats | 155 reps   \n",
       "4                                                                               2 mins 3 secs   \n",
       "5                                                                              23 mins 3 secs   \n",
       "6                                                                             15 mins 17 secs   \n",
       "7                                                                                     16 mins   \n",
       "8                                             2 rounds + 25 yd + 14 Dumbbell Snatches + 15 yd   \n",
       "9                                                                58 reps | 15, 15, 13, and 15   \n",
       "10                                                                        6 rounds | 162 reps   \n",
       "11                                                                                      1 min   \n",
       "12                                                                            12 mins 18 secs   \n",
       "13                                                                                   4 rounds   \n",
       "14                                                                            13 mins 52 secs   \n",
       "15                                                                            18 mins 50 secs   \n",
       "16  16 mins 59 secs | (4 mins 30 secs), (4 mins 7 secs), (4 mins 21 secs), and (4 mins 1 sec)   \n",
       "\n",
       "                                                           Notes  \\\n",
       "0                                                            NaN   \n",
       "1                                                            NaN   \n",
       "2                                                            NaN   \n",
       "3                                                            NaN   \n",
       "4                                                            NaN   \n",
       "5                                 2:18.6 avg 500m pace avg 24spm   \n",
       "6                                                            NaN   \n",
       "7   Pull ups and dips with band, accidentally only did 5 of each   \n",
       "8                                                            NaN   \n",
       "9                                                            NaN   \n",
       "10                                   Green band all PU unbroken    \n",
       "11                                                           NaN   \n",
       "12                   Pull ups and dips on assist machine @70 lbs   \n",
       "13                                                           NaN   \n",
       "14                                                           NaN   \n",
       "15                              DL 155, hspu done to two ab mats   \n",
       "16                                                           NaN   \n",
       "\n",
       "                                                                                                                                                                           Description  \\\n",
       "0                                                                                                                   21-15-9 reps of:\\nSquat Clean & Jerk, 75 lbs\\nBox Jump Over, 24 in   \n",
       "1                                                                                                                                        7:00 AMRAP:\\n10 Pull-ups\\n10 Box Jumps, 20 in   \n",
       "2                                                                                                                                   7:00 AMRAP:\\n7 Ring Push-ups\\n10 Wall Balls, 8 lbs   \n",
       "3                                                              12:00 AMRAP:\\n10 Back Squats, 95 lbs\\n10 Russian Kettlebell Swings, 53 lbs\\n10 Back Squats, 95 lbs\\n20 Push-up (knees)s   \n",
       "4                                                                                                                                                             30 Clean & Jerks, 65 lbs   \n",
       "5   Intervals : rest 30 secs\\nRow, 250 m | 1:10\\nRow, 500 m | 2:21\\nRow, 750 m | 3:28\\nRow, 1000 m | 4:37\\nRow, 1000 m | 4:36\\nRow, 750 m | 3:27\\nRow, 500 m | 2:17\\nRow, 250 m | 1:07   \n",
       "6                                                                                                        5 rounds of:\\n5 Push Jerks, 95 lbs\\n10 Deadlifts, 95 lbs\\n15 Burpee Over Bars   \n",
       "7                                                                                                            5 rounds of:\\n5 Pull-up (blue band)s\\n5 Ring Dip (Blue Band)s\\n21 Burpees   \n",
       "8                                              13:00 AMRAP:\\nBack Rack Walking Lunge, 65 lbs, 25 yd\\n14 Dumbbell Snatches, 20 lbs\\nBack Rack Walking Lunge, 65 lbs, 25 yd\\n5 Ring Rows   \n",
       "9                                                                           20:00 AMRAP:\\n1 Rope Climb (from ground to standing)\\nRun, 400 m\\nmax rep Piked Handstand Push Up On Boxes   \n",
       "10                                                                                          12:00 AMRAP:\\n5 Strict Pull-up (band)s\\n7 Bent Over Barbell Rows, 65 lbs\\n15 AbMat Sit-ups   \n",
       "11                                                                                                                                                                          10 Burpees   \n",
       "12                                                                                                                5 rounds of:\\n5 Pull-ups\\n10 Banded Ring Dips\\n15 Wall Balls, 14 lbs   \n",
       "13                                                      6:00 AMRAP:\\n10 Single Arm Thrusters | 20 lbs\\nDouble Kettlebell Overhead Carry, 50 ft | 20 lbs\\n10 Kettlebell Swings | 20 lbs   \n",
       "14                                                                                                 21-18-15-12-9-6-3 reps of:\\nSumo Deadlift High-pull, 55 lbs\\nOverhead Squat, 55 lbs   \n",
       "15                                                                                                                              21-15-9 reps of:\\nDeadlift, 155 lbs\\nHandstand Push Up   \n",
       "16                                                               4 rounds, each round for time, of:\\nRun, 200 m\\n20 Wall Balls, 14 lbs\\n20 Burpees\\nResting 2 mins between each round.   \n",
       "\n",
       "    For_Reps  For_Time  \n",
       "0          0         1  \n",
       "1          1         0  \n",
       "2          1         0  \n",
       "3          1         0  \n",
       "4          0         1  \n",
       "5          0         1  \n",
       "6          0         1  \n",
       "7          0         1  \n",
       "8          1         0  \n",
       "9          1         0  \n",
       "10         1         0  \n",
       "11         0         1  \n",
       "12         0         1  \n",
       "13         1         0  \n",
       "14         0         1  \n",
       "15         0         1  \n",
       "16         0         1  "
      ]
     },
     "execution_count": 33,
     "metadata": {},
     "output_type": "execute_result"
    }
   ],
   "source": [
    "blah = model_df('data_2.csv').iloc[:17]\n",
    "to_score = pd.concat([blah,time_or_reps(blah)], axis=1) \n",
    "to_score"
   ]
  },
  {
   "cell_type": "code",
   "execution_count": 34,
   "metadata": {
    "collapsed": false
   },
   "outputs": [
    {
     "data": {
      "text/html": [
       "<div>\n",
       "<style>\n",
       "    .dataframe thead tr:only-child th {\n",
       "        text-align: right;\n",
       "    }\n",
       "\n",
       "    .dataframe thead th {\n",
       "        text-align: left;\n",
       "    }\n",
       "\n",
       "    .dataframe tbody tr th {\n",
       "        vertical-align: top;\n",
       "    }\n",
       "</style>\n",
       "<table border=\"1\" class=\"dataframe\">\n",
       "  <thead>\n",
       "    <tr style=\"text-align: right;\">\n",
       "      <th></th>\n",
       "      <th>Date</th>\n",
       "      <th>Workout</th>\n",
       "      <th>Result</th>\n",
       "      <th>Prescribed</th>\n",
       "      <th>Pukie</th>\n",
       "      <th>Work performed</th>\n",
       "      <th>Work time</th>\n",
       "      <th>Formatted Result</th>\n",
       "      <th>Notes</th>\n",
       "      <th>Description</th>\n",
       "      <th>For_Reps</th>\n",
       "      <th>For_Time</th>\n",
       "      <th>pred</th>\n",
       "    </tr>\n",
       "  </thead>\n",
       "  <tbody>\n",
       "    <tr>\n",
       "      <th>0</th>\n",
       "      <td>2017-05-20</td>\n",
       "      <td>21-15-9: Squat Clean &amp; Jerks and Box Jump Overs</td>\n",
       "      <td>763000.000</td>\n",
       "      <td>True</td>\n",
       "      <td>False</td>\n",
       "      <td>48876</td>\n",
       "      <td>763000.0</td>\n",
       "      <td>12 mins 43 secs</td>\n",
       "      <td>NaN</td>\n",
       "      <td>21-15-9 reps of:\\nSquat Clean &amp; Jerk, 75 lbs\\nBox Jump Over, 24 in</td>\n",
       "      <td>0</td>\n",
       "      <td>1</td>\n",
       "      <td>9.325786e+05</td>\n",
       "    </tr>\n",
       "    <tr>\n",
       "      <th>1</th>\n",
       "      <td>2017-05-06</td>\n",
       "      <td>AMRAP 7 mins: Pull-ups and Box Jumps</td>\n",
       "      <td>3.350</td>\n",
       "      <td>True</td>\n",
       "      <td>False</td>\n",
       "      <td>19977</td>\n",
       "      <td>420000.0</td>\n",
       "      <td>3 rounds + 7 Pull-ups | 67 reps</td>\n",
       "      <td>NaN</td>\n",
       "      <td>7:00 AMRAP:\\n10 Pull-ups\\n10 Box Jumps, 20 in</td>\n",
       "      <td>1</td>\n",
       "      <td>0</td>\n",
       "      <td>2.222045e+04</td>\n",
       "    </tr>\n",
       "    <tr>\n",
       "      <th>2</th>\n",
       "      <td>2017-05-06</td>\n",
       "      <td>AMRAP 7 mins: Banded Ring Dips and Wall Balls</td>\n",
       "      <td>3.429</td>\n",
       "      <td>False</td>\n",
       "      <td>False</td>\n",
       "      <td>16418</td>\n",
       "      <td>420000.0</td>\n",
       "      <td>3 rounds + 6 Ring Push-ups | 57 reps</td>\n",
       "      <td>NaN</td>\n",
       "      <td>7:00 AMRAP:\\n7 Ring Push-ups\\n10 Wall Balls, 8 lbs</td>\n",
       "      <td>1</td>\n",
       "      <td>0</td>\n",
       "      <td>1.292579e+04</td>\n",
       "    </tr>\n",
       "    <tr>\n",
       "      <th>3</th>\n",
       "      <td>2017-05-06</td>\n",
       "      <td>AMRAP 12 mins: Back Squats, Russian Kettlebell Swings, Back Squats and Push-ups</td>\n",
       "      <td>3.125</td>\n",
       "      <td>False</td>\n",
       "      <td>False</td>\n",
       "      <td>29820</td>\n",
       "      <td>720000.0</td>\n",
       "      <td>3 rounds + 5 Back Squats | 155 reps</td>\n",
       "      <td>NaN</td>\n",
       "      <td>12:00 AMRAP:\\n10 Back Squats, 95 lbs\\n10 Russian Kettlebell Swings, 53 lbs\\n10 Back Squats, 95 lbs\\n20 Push-up (knees)s</td>\n",
       "      <td>1</td>\n",
       "      <td>0</td>\n",
       "      <td>1.431516e+04</td>\n",
       "    </tr>\n",
       "    <tr>\n",
       "      <th>4</th>\n",
       "      <td>2017-05-05</td>\n",
       "      <td>Clean &amp; Jerk : 30 Reps for Time</td>\n",
       "      <td>123000.000</td>\n",
       "      <td>True</td>\n",
       "      <td>False</td>\n",
       "      <td>19921</td>\n",
       "      <td>123000.0</td>\n",
       "      <td>2 mins 3 secs</td>\n",
       "      <td>NaN</td>\n",
       "      <td>30 Clean &amp; Jerks, 65 lbs</td>\n",
       "      <td>0</td>\n",
       "      <td>1</td>\n",
       "      <td>2.154109e+05</td>\n",
       "    </tr>\n",
       "    <tr>\n",
       "      <th>5</th>\n",
       "      <td>2017-05-02</td>\n",
       "      <td>Row : 250/500/750/1000/1000/750/500/250 m, rest 30 secs</td>\n",
       "      <td>1383000.000</td>\n",
       "      <td>True</td>\n",
       "      <td>False</td>\n",
       "      <td>135009</td>\n",
       "      <td>1383000.0</td>\n",
       "      <td>23 mins 3 secs</td>\n",
       "      <td>2:18.6 avg 500m pace avg 24spm</td>\n",
       "      <td>Intervals : rest 30 secs\\nRow, 250 m | 1:10\\nRow, 500 m | 2:21\\nRow, 750 m | 3:28\\nRow, 1000 m | 4:37\\nRow, 1000 m | 4:36\\nRow, 750 m | 3:27\\nRow, 500 m | 2:17\\nRow, 250 m | 1:07</td>\n",
       "      <td>0</td>\n",
       "      <td>1</td>\n",
       "      <td>1.014400e+06</td>\n",
       "    </tr>\n",
       "    <tr>\n",
       "      <th>6</th>\n",
       "      <td>2017-04-30</td>\n",
       "      <td>5 RFT: Push Jerks, Deadlifts and Burpee Over Bars</td>\n",
       "      <td>917000.000</td>\n",
       "      <td>True</td>\n",
       "      <td>False</td>\n",
       "      <td>59621</td>\n",
       "      <td>917000.0</td>\n",
       "      <td>15 mins 17 secs</td>\n",
       "      <td>NaN</td>\n",
       "      <td>5 rounds of:\\n5 Push Jerks, 95 lbs\\n10 Deadlifts, 95 lbs\\n15 Burpee Over Bars</td>\n",
       "      <td>0</td>\n",
       "      <td>1</td>\n",
       "      <td>9.176168e+05</td>\n",
       "    </tr>\n",
       "    <tr>\n",
       "      <th>7</th>\n",
       "      <td>2017-04-25</td>\n",
       "      <td>5 RFT: Pull-ups, Ring Dips and Burpees</td>\n",
       "      <td>960000.000</td>\n",
       "      <td>False</td>\n",
       "      <td>False</td>\n",
       "      <td>62120</td>\n",
       "      <td>960000.0</td>\n",
       "      <td>16 mins</td>\n",
       "      <td>Pull ups and dips with band, accidentally only did 5 of each</td>\n",
       "      <td>5 rounds of:\\n5 Pull-up (blue band)s\\n5 Ring Dip (Blue Band)s\\n21 Burpees</td>\n",
       "      <td>0</td>\n",
       "      <td>1</td>\n",
       "      <td>5.155533e+05</td>\n",
       "    </tr>\n",
       "    <tr>\n",
       "      <th>8</th>\n",
       "      <td>2017-04-23</td>\n",
       "      <td>AMRAP 13 mins: Back Rack Walking Lunges, Dumbbell Snatches, Back Rack Walking Lunges and Ring Rows</td>\n",
       "      <td>2.650</td>\n",
       "      <td>True</td>\n",
       "      <td>False</td>\n",
       "      <td>16444</td>\n",
       "      <td>780000.0</td>\n",
       "      <td>2 rounds + 25 yd + 14 Dumbbell Snatches + 15 yd</td>\n",
       "      <td>NaN</td>\n",
       "      <td>13:00 AMRAP:\\nBack Rack Walking Lunge, 65 lbs, 25 yd\\n14 Dumbbell Snatches, 20 lbs\\nBack Rack Walking Lunge, 65 lbs, 25 yd\\n5 Ring Rows</td>\n",
       "      <td>1</td>\n",
       "      <td>0</td>\n",
       "      <td>1.372772e+04</td>\n",
       "    </tr>\n",
       "    <tr>\n",
       "      <th>9</th>\n",
       "      <td>2017-04-22</td>\n",
       "      <td>AMRAP 20 mins: Rope Climb (from ground to standing)s, 400 m and Piked Handstand Push Up On Boxes</td>\n",
       "      <td>58.000</td>\n",
       "      <td>True</td>\n",
       "      <td>False</td>\n",
       "      <td>47953</td>\n",
       "      <td>1200000.0</td>\n",
       "      <td>58 reps | 15, 15, 13, and 15</td>\n",
       "      <td>NaN</td>\n",
       "      <td>20:00 AMRAP:\\n1 Rope Climb (from ground to standing)\\nRun, 400 m\\nmax rep Piked Handstand Push Up On Boxes</td>\n",
       "      <td>1</td>\n",
       "      <td>0</td>\n",
       "      <td>6.886585e+04</td>\n",
       "    </tr>\n",
       "    <tr>\n",
       "      <th>10</th>\n",
       "      <td>2017-04-22</td>\n",
       "      <td>AMRAP 12 mins: Strict Pull-up (band)s, Bent Over Barbell Rows and AbMat Sit-ups</td>\n",
       "      <td>6.000</td>\n",
       "      <td>True</td>\n",
       "      <td>False</td>\n",
       "      <td>16249</td>\n",
       "      <td>720000.0</td>\n",
       "      <td>6 rounds | 162 reps</td>\n",
       "      <td>Green band all PU unbroken</td>\n",
       "      <td>12:00 AMRAP:\\n5 Strict Pull-up (band)s\\n7 Bent Over Barbell Rows, 65 lbs\\n15 AbMat Sit-ups</td>\n",
       "      <td>1</td>\n",
       "      <td>0</td>\n",
       "      <td>6.487891e+03</td>\n",
       "    </tr>\n",
       "    <tr>\n",
       "      <th>11</th>\n",
       "      <td>2017-04-21</td>\n",
       "      <td>Air Squats : 10 Reps for Time</td>\n",
       "      <td>60000.000</td>\n",
       "      <td>True</td>\n",
       "      <td>False</td>\n",
       "      <td>5401</td>\n",
       "      <td>60000.0</td>\n",
       "      <td>1 min</td>\n",
       "      <td>NaN</td>\n",
       "      <td>10 Burpees</td>\n",
       "      <td>0</td>\n",
       "      <td>1</td>\n",
       "      <td>3.331312e+05</td>\n",
       "    </tr>\n",
       "    <tr>\n",
       "      <th>12</th>\n",
       "      <td>2017-04-19</td>\n",
       "      <td>5 RFT: Pull-ups, Banded Ring Dips and Wall Balls</td>\n",
       "      <td>738000.000</td>\n",
       "      <td>False</td>\n",
       "      <td>False</td>\n",
       "      <td>28919</td>\n",
       "      <td>738000.0</td>\n",
       "      <td>12 mins 18 secs</td>\n",
       "      <td>Pull ups and dips on assist machine @70 lbs</td>\n",
       "      <td>5 rounds of:\\n5 Pull-ups\\n10 Banded Ring Dips\\n15 Wall Balls, 14 lbs</td>\n",
       "      <td>0</td>\n",
       "      <td>1</td>\n",
       "      <td>4.837838e+05</td>\n",
       "    </tr>\n",
       "    <tr>\n",
       "      <th>13</th>\n",
       "      <td>2017-04-16</td>\n",
       "      <td>AMRAP 6 mins: Single Arm Thrusters, Double Kettlebell Overhead Carries and Kettlebell Swings</td>\n",
       "      <td>4.000</td>\n",
       "      <td>True</td>\n",
       "      <td>False</td>\n",
       "      <td>7436</td>\n",
       "      <td>360000.0</td>\n",
       "      <td>4 rounds</td>\n",
       "      <td>NaN</td>\n",
       "      <td>6:00 AMRAP:\\n10 Single Arm Thrusters | 20 lbs\\nDouble Kettlebell Overhead Carry, 50 ft | 20 lbs\\n10 Kettlebell Swings | 20 lbs</td>\n",
       "      <td>1</td>\n",
       "      <td>0</td>\n",
       "      <td>2.228341e+04</td>\n",
       "    </tr>\n",
       "    <tr>\n",
       "      <th>14</th>\n",
       "      <td>2017-04-16</td>\n",
       "      <td>21-18-15-12-9-6-3: Sumo Deadlift High-pulls and Overhead Squats</td>\n",
       "      <td>832000.000</td>\n",
       "      <td>True</td>\n",
       "      <td>False</td>\n",
       "      <td>53714</td>\n",
       "      <td>832000.0</td>\n",
       "      <td>13 mins 52 secs</td>\n",
       "      <td>NaN</td>\n",
       "      <td>21-18-15-12-9-6-3 reps of:\\nSumo Deadlift High-pull, 55 lbs\\nOverhead Squat, 55 lbs</td>\n",
       "      <td>0</td>\n",
       "      <td>1</td>\n",
       "      <td>7.138270e+05</td>\n",
       "    </tr>\n",
       "    <tr>\n",
       "      <th>15</th>\n",
       "      <td>2017-04-10</td>\n",
       "      <td>Diane</td>\n",
       "      <td>1130000.000</td>\n",
       "      <td>False</td>\n",
       "      <td>False</td>\n",
       "      <td>27352</td>\n",
       "      <td>1130000.0</td>\n",
       "      <td>18 mins 50 secs</td>\n",
       "      <td>DL 155, hspu done to two ab mats</td>\n",
       "      <td>21-15-9 reps of:\\nDeadlift, 155 lbs\\nHandstand Push Up</td>\n",
       "      <td>0</td>\n",
       "      <td>1</td>\n",
       "      <td>4.840769e+05</td>\n",
       "    </tr>\n",
       "    <tr>\n",
       "      <th>16</th>\n",
       "      <td>2017-04-06</td>\n",
       "      <td>4x RFT: 200 m, Wall Balls, and Burpees</td>\n",
       "      <td>1019000.000</td>\n",
       "      <td>True</td>\n",
       "      <td>False</td>\n",
       "      <td>90192</td>\n",
       "      <td>1019000.0</td>\n",
       "      <td>16 mins 59 secs | (4 mins 30 secs), (4 mins 7 secs), (4 mins 21 secs), and (4 mins 1 sec)</td>\n",
       "      <td>NaN</td>\n",
       "      <td>4 rounds, each round for time, of:\\nRun, 200 m\\n20 Wall Balls, 14 lbs\\n20 Burpees\\nResting 2 mins between each round.</td>\n",
       "      <td>0</td>\n",
       "      <td>1</td>\n",
       "      <td>1.349996e+06</td>\n",
       "    </tr>\n",
       "  </tbody>\n",
       "</table>\n",
       "</div>"
      ],
      "text/plain": [
       "          Date  \\\n",
       "0   2017-05-20   \n",
       "1   2017-05-06   \n",
       "2   2017-05-06   \n",
       "3   2017-05-06   \n",
       "4   2017-05-05   \n",
       "5   2017-05-02   \n",
       "6   2017-04-30   \n",
       "7   2017-04-25   \n",
       "8   2017-04-23   \n",
       "9   2017-04-22   \n",
       "10  2017-04-22   \n",
       "11  2017-04-21   \n",
       "12  2017-04-19   \n",
       "13  2017-04-16   \n",
       "14  2017-04-16   \n",
       "15  2017-04-10   \n",
       "16  2017-04-06   \n",
       "\n",
       "                                                                                               Workout  \\\n",
       "0                                                      21-15-9: Squat Clean & Jerks and Box Jump Overs   \n",
       "1                                                                 AMRAP 7 mins: Pull-ups and Box Jumps   \n",
       "2                                                        AMRAP 7 mins: Banded Ring Dips and Wall Balls   \n",
       "3                      AMRAP 12 mins: Back Squats, Russian Kettlebell Swings, Back Squats and Push-ups   \n",
       "4                                                                      Clean & Jerk : 30 Reps for Time   \n",
       "5                                              Row : 250/500/750/1000/1000/750/500/250 m, rest 30 secs   \n",
       "6                                                    5 RFT: Push Jerks, Deadlifts and Burpee Over Bars   \n",
       "7                                                               5 RFT: Pull-ups, Ring Dips and Burpees   \n",
       "8   AMRAP 13 mins: Back Rack Walking Lunges, Dumbbell Snatches, Back Rack Walking Lunges and Ring Rows   \n",
       "9     AMRAP 20 mins: Rope Climb (from ground to standing)s, 400 m and Piked Handstand Push Up On Boxes   \n",
       "10                     AMRAP 12 mins: Strict Pull-up (band)s, Bent Over Barbell Rows and AbMat Sit-ups   \n",
       "11                                                                       Air Squats : 10 Reps for Time   \n",
       "12                                                    5 RFT: Pull-ups, Banded Ring Dips and Wall Balls   \n",
       "13        AMRAP 6 mins: Single Arm Thrusters, Double Kettlebell Overhead Carries and Kettlebell Swings   \n",
       "14                                     21-18-15-12-9-6-3: Sumo Deadlift High-pulls and Overhead Squats   \n",
       "15                                                                                               Diane   \n",
       "16                                                              4x RFT: 200 m, Wall Balls, and Burpees   \n",
       "\n",
       "         Result  Prescribed  Pukie  Work performed  Work time  \\\n",
       "0    763000.000        True  False           48876   763000.0   \n",
       "1         3.350        True  False           19977   420000.0   \n",
       "2         3.429       False  False           16418   420000.0   \n",
       "3         3.125       False  False           29820   720000.0   \n",
       "4    123000.000        True  False           19921   123000.0   \n",
       "5   1383000.000        True  False          135009  1383000.0   \n",
       "6    917000.000        True  False           59621   917000.0   \n",
       "7    960000.000       False  False           62120   960000.0   \n",
       "8         2.650        True  False           16444   780000.0   \n",
       "9        58.000        True  False           47953  1200000.0   \n",
       "10        6.000        True  False           16249   720000.0   \n",
       "11    60000.000        True  False            5401    60000.0   \n",
       "12   738000.000       False  False           28919   738000.0   \n",
       "13        4.000        True  False            7436   360000.0   \n",
       "14   832000.000        True  False           53714   832000.0   \n",
       "15  1130000.000       False  False           27352  1130000.0   \n",
       "16  1019000.000        True  False           90192  1019000.0   \n",
       "\n",
       "                                                                             Formatted Result  \\\n",
       "0                                                                             12 mins 43 secs   \n",
       "1                                                             3 rounds + 7 Pull-ups | 67 reps   \n",
       "2                                                        3 rounds + 6 Ring Push-ups | 57 reps   \n",
       "3                                                         3 rounds + 5 Back Squats | 155 reps   \n",
       "4                                                                               2 mins 3 secs   \n",
       "5                                                                              23 mins 3 secs   \n",
       "6                                                                             15 mins 17 secs   \n",
       "7                                                                                     16 mins   \n",
       "8                                             2 rounds + 25 yd + 14 Dumbbell Snatches + 15 yd   \n",
       "9                                                                58 reps | 15, 15, 13, and 15   \n",
       "10                                                                        6 rounds | 162 reps   \n",
       "11                                                                                      1 min   \n",
       "12                                                                            12 mins 18 secs   \n",
       "13                                                                                   4 rounds   \n",
       "14                                                                            13 mins 52 secs   \n",
       "15                                                                            18 mins 50 secs   \n",
       "16  16 mins 59 secs | (4 mins 30 secs), (4 mins 7 secs), (4 mins 21 secs), and (4 mins 1 sec)   \n",
       "\n",
       "                                                           Notes  \\\n",
       "0                                                            NaN   \n",
       "1                                                            NaN   \n",
       "2                                                            NaN   \n",
       "3                                                            NaN   \n",
       "4                                                            NaN   \n",
       "5                                 2:18.6 avg 500m pace avg 24spm   \n",
       "6                                                            NaN   \n",
       "7   Pull ups and dips with band, accidentally only did 5 of each   \n",
       "8                                                            NaN   \n",
       "9                                                            NaN   \n",
       "10                                   Green band all PU unbroken    \n",
       "11                                                           NaN   \n",
       "12                   Pull ups and dips on assist machine @70 lbs   \n",
       "13                                                           NaN   \n",
       "14                                                           NaN   \n",
       "15                              DL 155, hspu done to two ab mats   \n",
       "16                                                           NaN   \n",
       "\n",
       "                                                                                                                                                                           Description  \\\n",
       "0                                                                                                                   21-15-9 reps of:\\nSquat Clean & Jerk, 75 lbs\\nBox Jump Over, 24 in   \n",
       "1                                                                                                                                        7:00 AMRAP:\\n10 Pull-ups\\n10 Box Jumps, 20 in   \n",
       "2                                                                                                                                   7:00 AMRAP:\\n7 Ring Push-ups\\n10 Wall Balls, 8 lbs   \n",
       "3                                                              12:00 AMRAP:\\n10 Back Squats, 95 lbs\\n10 Russian Kettlebell Swings, 53 lbs\\n10 Back Squats, 95 lbs\\n20 Push-up (knees)s   \n",
       "4                                                                                                                                                             30 Clean & Jerks, 65 lbs   \n",
       "5   Intervals : rest 30 secs\\nRow, 250 m | 1:10\\nRow, 500 m | 2:21\\nRow, 750 m | 3:28\\nRow, 1000 m | 4:37\\nRow, 1000 m | 4:36\\nRow, 750 m | 3:27\\nRow, 500 m | 2:17\\nRow, 250 m | 1:07   \n",
       "6                                                                                                        5 rounds of:\\n5 Push Jerks, 95 lbs\\n10 Deadlifts, 95 lbs\\n15 Burpee Over Bars   \n",
       "7                                                                                                            5 rounds of:\\n5 Pull-up (blue band)s\\n5 Ring Dip (Blue Band)s\\n21 Burpees   \n",
       "8                                              13:00 AMRAP:\\nBack Rack Walking Lunge, 65 lbs, 25 yd\\n14 Dumbbell Snatches, 20 lbs\\nBack Rack Walking Lunge, 65 lbs, 25 yd\\n5 Ring Rows   \n",
       "9                                                                           20:00 AMRAP:\\n1 Rope Climb (from ground to standing)\\nRun, 400 m\\nmax rep Piked Handstand Push Up On Boxes   \n",
       "10                                                                                          12:00 AMRAP:\\n5 Strict Pull-up (band)s\\n7 Bent Over Barbell Rows, 65 lbs\\n15 AbMat Sit-ups   \n",
       "11                                                                                                                                                                          10 Burpees   \n",
       "12                                                                                                                5 rounds of:\\n5 Pull-ups\\n10 Banded Ring Dips\\n15 Wall Balls, 14 lbs   \n",
       "13                                                      6:00 AMRAP:\\n10 Single Arm Thrusters | 20 lbs\\nDouble Kettlebell Overhead Carry, 50 ft | 20 lbs\\n10 Kettlebell Swings | 20 lbs   \n",
       "14                                                                                                 21-18-15-12-9-6-3 reps of:\\nSumo Deadlift High-pull, 55 lbs\\nOverhead Squat, 55 lbs   \n",
       "15                                                                                                                              21-15-9 reps of:\\nDeadlift, 155 lbs\\nHandstand Push Up   \n",
       "16                                                               4 rounds, each round for time, of:\\nRun, 200 m\\n20 Wall Balls, 14 lbs\\n20 Burpees\\nResting 2 mins between each round.   \n",
       "\n",
       "    For_Reps  For_Time          pred  \n",
       "0          0         1  9.325786e+05  \n",
       "1          1         0  2.222045e+04  \n",
       "2          1         0  1.292579e+04  \n",
       "3          1         0  1.431516e+04  \n",
       "4          0         1  2.154109e+05  \n",
       "5          0         1  1.014400e+06  \n",
       "6          0         1  9.176168e+05  \n",
       "7          0         1  5.155533e+05  \n",
       "8          1         0  1.372772e+04  \n",
       "9          1         0  6.886585e+04  \n",
       "10         1         0  6.487891e+03  \n",
       "11         0         1  3.331312e+05  \n",
       "12         0         1  4.837838e+05  \n",
       "13         1         0  2.228341e+04  \n",
       "14         0         1  7.138270e+05  \n",
       "15         0         1  4.840769e+05  \n",
       "16         0         1  1.349996e+06  "
      ]
     },
     "execution_count": 34,
     "metadata": {},
     "output_type": "execute_result"
    }
   ],
   "source": [
    "preds = []\n",
    "for i in range(blah.shape[0]):\n",
    "    if to_score.iloc[i]['For_Time'] == 1:\n",
    "        x = get_prediction(model_df('data_2.csv').iloc[i]['Description'],None,model_df('data_2.csv').iloc[i]['Work performed'])\n",
    "        preds.append(x)\n",
    "    elif to_score.iloc[i]['For_Time'] == 0:\n",
    "        x = get_prediction(model_df('data_2.csv').iloc[i]['Description'],model_df('data_2.csv').iloc[i]['Work time'],None)\n",
    "        preds.append(x)\n",
    "to_score['pred'] = preds\n",
    "to_score"
   ]
  },
  {
   "cell_type": "code",
   "execution_count": 35,
   "metadata": {
    "collapsed": true
   },
   "outputs": [],
   "source": [
    "time_index = to_score['For_Reps'][to_score['For_Reps'] == 0].index\n",
    "reps_index = to_score['For_Reps'][to_score['For_Reps'] == 1].index"
   ]
  },
  {
   "cell_type": "code",
   "execution_count": 36,
   "metadata": {
    "collapsed": false
   },
   "outputs": [
    {
     "data": {
      "text/plain": [
       "<matplotlib.collections.LineCollection at 0xc6b17f0>"
      ]
     },
     "execution_count": 36,
     "metadata": {},
     "output_type": "execute_result"
    },
    {
     "data": {
      "image/png": "[encoded data removed]",
      "text/plain": [
       "<matplotlib.figure.Figure at 0x4681668>"
      ]
     },
     "metadata": {},
     "output_type": "display_data"
    }
   ],
   "source": [
    "pred = to_score['pred'][reps_index]\n",
    "y_test = to_score['Work performed'][reps_index]\n",
    "plt.scatter(pred, pred - y_test)\n",
    "plt.hlines(y = 0, xmin= pred.min(), xmax=pred.max())"
   ]
  },
  {
   "cell_type": "code",
   "execution_count": 37,
   "metadata": {
    "collapsed": false
   },
   "outputs": [
    {
     "data": {
      "text/plain": [
       "<matplotlib.collections.LineCollection at 0xd960ba8>"
      ]
     },
     "execution_count": 37,
     "metadata": {},
     "output_type": "execute_result"
    },
    {
     "data": {
      "image/png": "[encoded data removed]",
      "text/plain": [
       "<matplotlib.figure.Figure at 0x4681a90>"
      ]
     },
     "metadata": {},
     "output_type": "display_data"
    }
   ],
   "source": [
    "pred = to_score['pred'][time_index]\n",
    "y_test = to_score['Work time'][time_index]\n",
    "plt.scatter(pred, pred - y_test)\n",
    "plt.hlines(y = 0, xmin= pred.min(), xmax=pred.max())"
   ]
  },
  {
   "cell_type": "code",
   "execution_count": 38,
   "metadata": {
    "collapsed": false
   },
   "outputs": [
    {
     "ename": "NameError",
     "evalue": "name 'r2_score' is not defined",
     "output_type": "error",
     "traceback": [
      "\u001b[0;31m---------------------------------------------------------------------------\u001b[0m",
      "\u001b[0;31mNameError\u001b[0m                                 Traceback (most recent call last)",
      "\u001b[0;32m<ipython-input-38-128cd5d60197>\u001b[0m in \u001b[0;36m<module>\u001b[0;34m()\u001b[0m\n\u001b[0;32m----> 1\u001b[0;31m \u001b[1;32mprint\u001b[0m \u001b[0mr2_score\u001b[0m\u001b[1;33m(\u001b[0m\u001b[0mto_score\u001b[0m\u001b[1;33m[\u001b[0m\u001b[1;34m'Work performed'\u001b[0m\u001b[1;33m]\u001b[0m\u001b[1;33m[\u001b[0m\u001b[0mreps_index\u001b[0m\u001b[1;33m]\u001b[0m\u001b[1;33m,\u001b[0m\u001b[0mto_score\u001b[0m\u001b[1;33m[\u001b[0m\u001b[1;34m'pred'\u001b[0m\u001b[1;33m]\u001b[0m\u001b[1;33m[\u001b[0m\u001b[0mreps_index\u001b[0m\u001b[1;33m]\u001b[0m\u001b[1;33m)\u001b[0m\u001b[1;33m\u001b[0m\u001b[0m\n\u001b[0m\u001b[1;32m      2\u001b[0m \u001b[1;32mprint\u001b[0m \u001b[0mr2_score\u001b[0m\u001b[1;33m(\u001b[0m\u001b[0mto_score\u001b[0m\u001b[1;33m[\u001b[0m\u001b[1;34m'Work time'\u001b[0m\u001b[1;33m]\u001b[0m\u001b[1;33m[\u001b[0m\u001b[0mtime_index\u001b[0m\u001b[1;33m]\u001b[0m\u001b[1;33m,\u001b[0m\u001b[0mto_score\u001b[0m\u001b[1;33m[\u001b[0m\u001b[1;34m'pred'\u001b[0m\u001b[1;33m]\u001b[0m\u001b[1;33m[\u001b[0m\u001b[0mtime_index\u001b[0m\u001b[1;33m]\u001b[0m\u001b[1;33m)\u001b[0m\u001b[1;33m\u001b[0m\u001b[0m\n",
      "\u001b[0;31mNameError\u001b[0m: name 'r2_score' is not defined"
     ]
    }
   ],
   "source": [
    "print r2_score(to_score['Work performed'][reps_index],to_score['pred'][reps_index])\n",
    "print r2_score(to_score['Work time'][time_index],to_score['pred'][time_index])"
   ]
  },
  {
   "cell_type": "raw",
   "metadata": {
    "collapsed": false
   },
   "source": [
    "\n",
    "\n",
    "kf = KFold(n_splits=3, shuffle= True ,random_state=2003)\n",
    "\n",
    "#cross_val_score(pipe, df1, y=df1['Work performed'], cv=kf, verbose=True).mean()\n",
    "params = {\n",
    "    'gb__loss': ['ls','lad'],\n",
    "    'gb__n_estimators': [100,200,300],\n",
    "    'gb__max_depth': [3,4,5]\n",
    "}\n",
    "gs = GridSearchCV(pipe, param_grid={}, cv=kf)\n",
    "gs.fit( df_test, df_test['Work performed'])\n",
    "print gs.best_score_\n",
    "print gs.best_params_"
   ]
  }
 ],
 "metadata": {
  "kernelspec": {
   "display_name": "Python 2",
   "language": "python",
   "name": "python2"
  },
  "language_info": {
   "codemirror_mode": {
    "name": "ipython",
    "version": 2
   },
   "file_extension": ".py",
   "mimetype": "text/x-python",
   "name": "python",
   "nbconvert_exporter": "python",
   "pygments_lexer": "ipython2",
   "version": "2.7.13"
  }
 },
 "nbformat": 4,
 "nbformat_minor": 2
}
